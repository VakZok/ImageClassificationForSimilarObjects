{
 "cells": [
  {
   "cell_type": "code",
   "execution_count": 1,
   "id": "initial_id",
   "metadata": {
    "collapsed": true,
    "ExecuteTime": {
     "end_time": "2024-01-31T17:45:54.921081300Z",
     "start_time": "2024-01-31T17:45:47.845042600Z"
    }
   },
   "outputs": [
    {
     "name": "stdout",
     "output_type": "stream",
     "text": [
      "WARNING:tensorflow:From E:\\Code\\Anaconda\\Lib\\site-packages\\keras\\src\\losses.py:2976: The name tf.losses.sparse_softmax_cross_entropy is deprecated. Please use tf.compat.v1.losses.sparse_softmax_cross_entropy instead.\n"
     ]
    }
   ],
   "source": [
    "import numpy as np\n",
    "import tensorflow as tf\n",
    "from sklearn.model_selection import train_test_split\n",
    "from tensorflow.keras.callbacks import EarlyStopping\n",
    "from tensorflow.keras.preprocessing.image import ImageDataGenerator\n",
    "import matplotlib.pyplot as plt"
   ]
  },
  {
   "cell_type": "code",
   "execution_count": 2,
   "outputs": [
    {
     "name": "stdout",
     "output_type": "stream",
     "text": [
      "Found 507 files belonging to 2 classes.\n"
     ]
    }
   ],
   "source": [
    "# Create an ImageDataGenerator with specified augmentations\n",
    "datagen = ImageDataGenerator(\n",
    "    horizontal_flip=True,  # Randomly flip images horizontally\n",
    "    zoom_range=0.2,         # Randomly zoom images (range: 0.2 means 20% zoom in/out)\n",
    "    shear_range=0.2        # Randomly shear images\n",
    ")\n",
    "\n",
    "# Load your dataset using tf.keras.utils.image_dataset_from_directory\n",
    "data = tf.keras.utils.image_dataset_from_directory('photos', batch_size=400)\n",
    "\n",
    "# Create lists to store augmented images and labels\n",
    "augmented_images = []\n",
    "augmented_labels = []\n",
    "\n",
    "# Loop through each batch of data\n",
    "for images, labels in data:\n",
    "    # Loop through each image in the batch\n",
    "    for i in range(len(images)):\n",
    "        image_np = images[i].numpy()  # Convert TensorFlow tensor to NumPy array\n",
    "        augmented_images.append(image_np)  # Original image\n",
    "        augmented_labels.append(labels[i])\n",
    "\n",
    "        # Apply data augmentation multiple times (e.g., 3 times)\n",
    "        for _ in range(5):\n",
    "            augmented_image = datagen.random_transform(image_np)\n",
    "            augmented_images.append(augmented_image)\n",
    "            augmented_labels.append(labels[i])\n",
    "\n",
    "# Convert lists to NumPy arrays and normalize\n",
    "augmented_images = np.array(augmented_images) / 255.0\n",
    "augmented_labels = np.array(augmented_labels)\n",
    "\n",
    "# Create a new dataset with augmented data\n",
    "augmented_data = tf.data.Dataset.from_tensor_slices((augmented_images, augmented_labels))\n",
    "\n",
    "# Shuffle the dataset and set batch size\n",
    "augmented_data = augmented_data.shuffle(len(augmented_images))\n"
   ],
   "metadata": {
    "collapsed": false,
    "ExecuteTime": {
     "end_time": "2024-01-31T17:46:33.028711300Z",
     "start_time": "2024-01-31T17:45:54.921081300Z"
    }
   },
   "id": "f881689b08117205"
  },
  {
   "cell_type": "code",
   "execution_count": 3,
   "outputs": [
    {
     "name": "stdout",
     "output_type": "stream",
     "text": [
      "Number of images: 3042\n",
      "Number of classes: 2\n"
     ]
    }
   ],
   "source": [
    "num_images = len(augmented_images)\n",
    "num_classes = len(np.unique(augmented_labels))\n",
    "print(f\"Number of images: {num_images}\")\n",
    "print(f\"Number of classes: {num_classes}\")"
   ],
   "metadata": {
    "collapsed": false,
    "ExecuteTime": {
     "end_time": "2024-01-31T17:46:33.035934700Z",
     "start_time": "2024-01-31T17:46:33.028711300Z"
    }
   },
   "id": "6b1dcf326fa73d0f"
  },
  {
   "cell_type": "code",
   "execution_count": 4,
   "outputs": [],
   "source": [
    "X_train, X_test, y_train, y_test = train_test_split(augmented_images, augmented_labels, test_size=0.2, random_state=42)"
   ],
   "metadata": {
    "collapsed": false,
    "ExecuteTime": {
     "end_time": "2024-01-31T17:46:33.662935600Z",
     "start_time": "2024-01-31T17:46:33.034936100Z"
    }
   },
   "id": "4ffa0d805c58eb84"
  },
  {
   "cell_type": "code",
   "execution_count": 5,
   "outputs": [
    {
     "name": "stdout",
     "output_type": "stream",
     "text": [
      "WARNING:tensorflow:From E:\\Code\\Anaconda\\Lib\\site-packages\\keras\\src\\backend.py:873: The name tf.get_default_graph is deprecated. Please use tf.compat.v1.get_default_graph instead.\n",
      "WARNING:tensorflow:From E:\\Code\\Anaconda\\Lib\\site-packages\\keras\\src\\layers\\pooling\\max_pooling2d.py:161: The name tf.nn.max_pool is deprecated. Please use tf.nn.max_pool2d instead.\n"
     ]
    }
   ],
   "source": [
    "model = tf.keras.models.Sequential([\n",
    "    tf.keras.layers.Conv2D(16, (3, 3), 1, activation='relu', input_shape=(256, 256, 3)),\n",
    "    tf.keras.layers.MaxPool2D(),\n",
    "    tf.keras.layers.Conv2D(32, (3, 3), 1, activation='relu'),\n",
    "    tf.keras.layers.MaxPool2D(),\n",
    "    tf.keras.layers.Conv2D(16, (3, 3), 1, activation='relu'),\n",
    "    tf.keras.layers.MaxPooling2D(),\n",
    "    tf.keras.layers.Flatten(),\n",
    "    tf.keras.layers.Dense(256, activation='relu'),\n",
    "    tf.keras.layers.Dense(1, activation='sigmoid')\n",
    "])"
   ],
   "metadata": {
    "collapsed": false,
    "ExecuteTime": {
     "end_time": "2024-01-31T17:46:34.263092500Z",
     "start_time": "2024-01-31T17:46:33.657934800Z"
    }
   },
   "id": "bc77e45678db3c82"
  },
  {
   "cell_type": "code",
   "execution_count": 6,
   "outputs": [
    {
     "name": "stdout",
     "output_type": "stream",
     "text": [
      "WARNING:tensorflow:From E:\\Code\\Anaconda\\Lib\\site-packages\\keras\\src\\optimizers\\__init__.py:309: The name tf.train.Optimizer is deprecated. Please use tf.compat.v1.train.Optimizer instead.\n"
     ]
    }
   ],
   "source": [
    "model.compile(optimizer='adam', loss='binary_crossentropy', metrics=['accuracy'])"
   ],
   "metadata": {
    "collapsed": false,
    "ExecuteTime": {
     "end_time": "2024-01-31T17:46:34.387771500Z",
     "start_time": "2024-01-31T17:46:34.264092700Z"
    }
   },
   "id": "a16bef4b216c3b4a"
  },
  {
   "cell_type": "code",
   "execution_count": 7,
   "outputs": [
    {
     "name": "stdout",
     "output_type": "stream",
     "text": [
      "Epoch 1/50\n",
      "WARNING:tensorflow:From E:\\Code\\Anaconda\\Lib\\site-packages\\keras\\src\\utils\\tf_utils.py:492: The name tf.ragged.RaggedTensorValue is deprecated. Please use tf.compat.v1.ragged.RaggedTensorValue instead.\n",
      "WARNING:tensorflow:From E:\\Code\\Anaconda\\Lib\\site-packages\\keras\\src\\engine\\base_layer_utils.py:384: The name tf.executing_eagerly_outside_functions is deprecated. Please use tf.compat.v1.executing_eagerly_outside_functions instead.\n",
      "61/61 [==============================] - 32s 478ms/step - loss: 0.5865 - accuracy: 0.6958 - val_loss: 0.5402 - val_accuracy: 0.7084 - lr: 1.0000e-04\n",
      "Epoch 2/50\n"
     ]
    },
    {
     "name": "stderr",
     "output_type": "stream",
     "text": [
      "E:\\Code\\Anaconda\\Lib\\site-packages\\keras\\src\\engine\\training.py:3103: UserWarning: You are saving your model as an HDF5 file via `model.save()`. This file format is considered legacy. We recommend using instead the native Keras format, e.g. `model.save('my_model.keras')`.\n",
      "  saving_api.save_model(\n"
     ]
    },
    {
     "name": "stdout",
     "output_type": "stream",
     "text": [
      "61/61 [==============================] - 24s 402ms/step - loss: 0.4695 - accuracy: 0.7790 - val_loss: 0.4369 - val_accuracy: 0.8090 - lr: 1.1220e-04\n",
      "Epoch 3/50\n",
      "61/61 [==============================] - 25s 406ms/step - loss: 0.3796 - accuracy: 0.8381 - val_loss: 0.3924 - val_accuracy: 0.8316 - lr: 1.2589e-04\n",
      "Epoch 4/50\n",
      "61/61 [==============================] - 25s 409ms/step - loss: 0.3289 - accuracy: 0.8607 - val_loss: 0.3527 - val_accuracy: 0.8419 - lr: 1.4125e-04\n",
      "Epoch 5/50\n",
      "61/61 [==============================] - 29s 472ms/step - loss: 0.3100 - accuracy: 0.8633 - val_loss: 0.4132 - val_accuracy: 0.8111 - lr: 1.5849e-04\n",
      "Epoch 6/50\n",
      "61/61 [==============================] - 21s 347ms/step - loss: 0.2504 - accuracy: 0.8998 - val_loss: 0.3216 - val_accuracy: 0.8563 - lr: 1.7783e-04\n",
      "Epoch 7/50\n",
      "61/61 [==============================] - 21s 345ms/step - loss: 0.2643 - accuracy: 0.8869 - val_loss: 0.3363 - val_accuracy: 0.8480 - lr: 1.9953e-04\n",
      "Epoch 8/50\n",
      "61/61 [==============================] - 21s 341ms/step - loss: 0.2265 - accuracy: 0.9090 - val_loss: 0.2773 - val_accuracy: 0.8871 - lr: 2.2387e-04\n",
      "Epoch 9/50\n",
      "61/61 [==============================] - 18s 300ms/step - loss: 0.1797 - accuracy: 0.9332 - val_loss: 0.3269 - val_accuracy: 0.8460 - lr: 2.5119e-04\n",
      "Epoch 10/50\n",
      "61/61 [==============================] - 18s 294ms/step - loss: 0.1626 - accuracy: 0.9373 - val_loss: 0.2853 - val_accuracy: 0.8686 - lr: 2.8184e-04\n"
     ]
    }
   ],
   "source": [
    "# Implement learning rate scheduler\n",
    "lr_schedule = tf.keras.callbacks.LearningRateScheduler(lambda epoch: 1e-4 * 10**(epoch / 20))\n",
    "\n",
    "# Add model checkpointing\n",
    "checkpoint_cb = tf.keras.callbacks.ModelCheckpoint(\"best_model.h5\", save_best_only=True)\n",
    "\n",
    "hist = model.fit(X_train, y_train, validation_split=0.2, epochs=50, callbacks=[EarlyStopping(patience= 2, restore_best_weights=True), lr_schedule, checkpoint_cb])"
   ],
   "metadata": {
    "collapsed": false,
    "ExecuteTime": {
     "end_time": "2024-01-31T17:50:28.697170200Z",
     "start_time": "2024-01-31T17:46:34.387771500Z"
    }
   },
   "id": "5223ac9bd17d3918"
  },
  {
   "cell_type": "code",
   "execution_count": 8,
   "outputs": [
    {
     "name": "stdout",
     "output_type": "stream",
     "text": [
      "20/20 - 2s - loss: 0.2356 - accuracy: 0.8966 - 2s/epoch - 79ms/step\n",
      "Test accuracy: 0.8965517282485962\n"
     ]
    }
   ],
   "source": [
    "# Evaluate the model on the test data\n",
    "test_loss, test_acc = model.evaluate(X_test, y_test, verbose=2)\n",
    "print(f'Test accuracy: {test_acc}')"
   ],
   "metadata": {
    "collapsed": false,
    "ExecuteTime": {
     "end_time": "2024-01-31T17:50:30.694041100Z",
     "start_time": "2024-01-31T17:50:28.690171500Z"
    }
   },
   "id": "df893b252145e0f6"
  },
  {
   "cell_type": "code",
   "execution_count": 9,
   "outputs": [
    {
     "data": {
      "text/plain": "<Figure size 1000x500 with 1 Axes>",
      "image/png": "[encoded data removed]"
     },
     "metadata": {},
     "output_type": "display_data"
    }
   ],
   "source": [
    "train_loss = hist.history['loss']\n",
    "val_loss = hist.history['val_loss']\n",
    "\n",
    "epochs = range(1, len(train_loss) + 1)\n",
    "\n",
    "plt.figure(figsize=(10, 5))\n",
    "plt.plot(epochs, train_loss, 'b', label='Trainingsverlust')\n",
    "plt.plot(epochs, val_loss, 'r', label='Validierungsverlust')\n",
    "plt.title('Trainings- und Validierungsverlust')\n",
    "plt.xlabel('Epochen')\n",
    "plt.ylabel('Loss')\n",
    "plt.legend()\n",
    "plt.grid(True)\n",
    "plt.show()"
   ],
   "metadata": {
    "collapsed": false,
    "ExecuteTime": {
     "end_time": "2024-01-31T17:50:30.854105900Z",
     "start_time": "2024-01-31T17:50:30.661044100Z"
    }
   },
   "id": "dcd4f9c6d3cdd25a"
  }
 ],
 "metadata": {
  "kernelspec": {
   "display_name": "Python 3",
   "language": "python",
   "name": "python3"
  },
  "language_info": {
   "codemirror_mode": {
    "name": "ipython",
    "version": 2
   },
   "file_extension": ".py",
   "mimetype": "text/x-python",
   "name": "python",
   "nbconvert_exporter": "python",
   "pygments_lexer": "ipython2",
   "version": "2.7.6"
  }
 },
 "nbformat": 4,
 "nbformat_minor": 5
}
