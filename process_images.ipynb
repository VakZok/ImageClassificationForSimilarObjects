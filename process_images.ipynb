{
 "cells": [
  {
   "cell_type": "markdown",
   "source": [
    "# Image Processor"
   ],
   "metadata": {
    "collapsed": false
   },
   "id": "52335692d14e9776"
  },
  {
   "cell_type": "code",
   "outputs": [],
   "source": [
    "import numpy as np\n",
    "import tensorflow as tf\n",
    "from sklearn.model_selection import train_test_split"
   ],
   "metadata": {
    "collapsed": false
   },
   "id": "f942088f6822c409",
   "execution_count": null
  },
  {
   "cell_type": "code",
   "execution_count": null,
   "outputs": [],
   "source": [
    "gpus = tf.config.experimental.list_physical_devices('GPU')\n",
    "for gpu in gpus: \n",
    "    tf.config.experimental.set_memory_growth(gpu, True)\n",
    "gpus"
   ],
   "metadata": {
    "collapsed": false
   },
   "id": "150016df4048127"
  },
  {
   "cell_type": "code",
   "execution_count": null,
   "outputs": [],
   "source": [
    "tf.config.list_physical_devices('GPU')"
   ],
   "metadata": {
    "collapsed": false
   },
   "id": "b7cdfe5e88fb1c3"
  },
  {
   "cell_type": "code",
   "outputs": [],
   "source": [
    "data = tf.keras.utils.image_dataset_from_directory('photos', batch_size= 400)\n",
    "\n",
    "data_iterator = data.as_numpy_iterator()\n",
    "\n",
    "images, labels = data_iterator.next()\n",
    "\n",
    "# First row of pixels of the first image in RGB to show how the data looks like\n",
    "print(images[1].astype(int)[0])"
   ],
   "metadata": {
    "collapsed": false
   },
   "id": "3c5775b28d29e1ad",
   "execution_count": null
  },
  {
   "cell_type": "code",
   "outputs": [],
   "source": [
    "num_images = len(images)\n",
    "num_classes = len(np.unique(labels))\n",
    "print(f\"Number of images: {num_images}\")\n",
    "print(f\"Number of classes: {num_classes}\")"
   ],
   "metadata": {
    "collapsed": false
   },
   "id": "eba3ac2661631aed",
   "execution_count": null
  },
  {
   "cell_type": "markdown",
   "source": [
    "## Scale the images\n",
    "\n",
    "This can be done here with /255, as the value range of RGB is only between 0 and 255."
   ],
   "metadata": {
    "collapsed": false
   },
   "id": "f7207de87345f96d"
  },
  {
   "cell_type": "code",
   "outputs": [],
   "source": [
    "images = images / 255.0"
   ],
   "metadata": {
    "collapsed": false
   },
   "id": "aaf79a2013bd77da",
   "execution_count": null
  },
  {
   "cell_type": "code",
   "outputs": [],
   "source": [
    "X_train, X_test, y_train, y_test = train_test_split(images, labels, test_size=0.2, random_state=42)"
   ],
   "metadata": {
    "collapsed": false
   },
   "id": "b7a16aa0fe3589b3",
   "execution_count": null
  },
  {
   "cell_type": "code",
   "execution_count": null,
   "outputs": [],
   "source": [
    "model = tf.keras.models.Sequential([\n",
    "    tf.keras.layers.Conv2D(16, (3, 3), 1, activation='relu', input_shape=(256, 256, 3)),\n",
    "    tf.keras.layers.MaxPool2D(),\n",
    "    tf.keras.layers.Conv2D(32, (3, 3), 1, activation='relu'),\n",
    "    tf.keras.layers.MaxPool2D(),\n",
    "    tf.keras.layers.Conv2D(16, (3, 3), 1, activation='relu'),\n",
    "    tf.keras.layers.MaxPooling2D(),\n",
    "    tf.keras.layers.Flatten(),\n",
    "    tf.keras.layers.Dense(256, activation='relu'),\n",
    "    tf.keras.layers.Dense(1, activation='sigmoid')\n",
    "])"
   ],
   "metadata": {
    "collapsed": false
   },
   "id": "ac8960157002f51d"
  },
  {
   "cell_type": "code",
   "execution_count": null,
   "outputs": [],
   "source": [
    "model.compile('adam', loss=tf.losses.BinaryCrossentropy(), metrics=['accuracy'])"
   ],
   "metadata": {
    "collapsed": false
   },
   "id": "5735edff61b2a4e9"
  },
  {
   "cell_type": "code",
   "execution_count": null,
   "outputs": [],
   "source": [
    "hist = model.fit(X_train,y_train, validation_data= (X_test, y_test), epochs=20)"
   ],
   "metadata": {
    "collapsed": false
   },
   "id": "c23bfe63e3a4aa42"
  },
  {
   "cell_type": "code",
   "execution_count": null,
   "outputs": [],
   "source": [
    "# Evaluate the model on the test data\n",
    "test_loss, test_acc = model.evaluate(X_test, y_test, verbose=2)\n",
    "print(f'Test accuracy: {test_acc}')"
   ],
   "metadata": {
    "collapsed": false
   },
   "id": "271587a53471d18c"
  },
  {
   "cell_type": "code",
   "execution_count": null,
   "outputs": [],
   "source": [],
   "metadata": {
    "collapsed": false
   },
   "id": "bc1c3296edc803f"
  }
 ],
 "metadata": {
  "kernelspec": {
   "display_name": "Python 3",
   "language": "python",
   "name": "python3"
  },
  "language_info": {
   "codemirror_mode": {
    "name": "ipython",
    "version": 2
   },
   "file_extension": ".py",
   "mimetype": "text/x-python",
   "name": "python",
   "nbconvert_exporter": "python",
   "pygments_lexer": "ipython2",
   "version": "2.7.6"
  }
 },
 "nbformat": 4,
 "nbformat_minor": 5
}
