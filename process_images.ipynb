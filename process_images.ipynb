{
 "cells": [
  {
   "cell_type": "markdown",
   "source": [
    "# Image Processor\n",
    "The goal of this notebook is to create a model that can classify images of the following two classes:\n",
    "- Kaninchen\n",
    "- Feldhase\n",
    "\n",
    "The comments in this notebook are plenty and generated mostly using the help of artificial intelligence. This approach is chosen, as it enables both the developers and the users of this notebook to understand the code better."
   ],
   "metadata": {
    "collapsed": false
   },
   "id": "52335692d14e9776"
  },
  {
   "cell_type": "markdown",
   "source": [
    "# Imports"
   ],
   "metadata": {
    "collapsed": false
   },
   "id": "3693b8f986328b26"
  },
  {
   "cell_type": "code",
   "outputs": [],
   "source": [
    "import numpy as np\n",
    "import tensorflow as tf\n",
    "from sklearn.model_selection import train_test_split"
   ],
   "metadata": {
    "collapsed": false,
    "ExecuteTime": {
     "end_time": "2024-01-09T22:21:24.615791Z",
     "start_time": "2024-01-09T22:21:24.603504Z"
    }
   },
   "id": "f942088f6822c409",
   "execution_count": 176
  },
  {
   "cell_type": "markdown",
   "source": [
    "# Adjust the GPU memory growth dynamically"
   ],
   "metadata": {
    "collapsed": false
   },
   "id": "1386b3984ac34736"
  },
  {
   "cell_type": "code",
   "execution_count": 177,
   "outputs": [
    {
     "data": {
      "text/plain": "[]"
     },
     "execution_count": 177,
     "metadata": {},
     "output_type": "execute_result"
    }
   ],
   "source": [
    "gpus = tf.config.experimental.list_physical_devices('GPU') # Get the list of GPUs\n",
    "for gpu in gpus: \n",
    "    tf.config.experimental.set_memory_growth(gpu, True) # enable tensorflow to allocate memory dynamically -> use only as much GPU memory as needed\n",
    "gpus"
   ],
   "metadata": {
    "collapsed": false,
    "ExecuteTime": {
     "end_time": "2024-01-09T22:21:24.634428Z",
     "start_time": "2024-01-09T22:21:24.623279Z"
    }
   },
   "id": "150016df4048127"
  },
  {
   "cell_type": "code",
   "execution_count": 178,
   "outputs": [
    {
     "data": {
      "text/plain": "[]"
     },
     "execution_count": 178,
     "metadata": {},
     "output_type": "execute_result"
    }
   ],
   "source": [
    "tf.config.list_physical_devices('GPU') # Check if GPU is available"
   ],
   "metadata": {
    "collapsed": false,
    "ExecuteTime": {
     "end_time": "2024-01-09T22:21:24.635341Z",
     "start_time": "2024-01-09T22:21:24.630584Z"
    }
   },
   "id": "b7cdfe5e88fb1c3"
  },
  {
   "cell_type": "markdown",
   "source": [
    "# Load images, multiplay them by applying data augmentation, and transform them into a numpy array"
   ],
   "metadata": {
    "collapsed": false
   },
   "id": "c19d96e6b9493e62"
  },
  {
   "cell_type": "code",
   "outputs": [
    {
     "name": "stdout",
     "output_type": "stream",
     "text": [
      "Found 400 images belonging to 2 classes.\n",
      "[[106 150  55]\n",
      " [106 150  55]\n",
      " [106 150  55]\n",
      " [106 150  55]\n",
      " [106 150  55]\n",
      " [106 150  55]\n",
      " [106 150  55]\n",
      " [106 150  55]\n",
      " [107 151  56]\n",
      " [113 157  62]\n",
      " [113 157  62]\n",
      " [112 155  62]\n",
      " [113 154  59]\n",
      " [115 155  58]\n",
      " [115 154  58]\n",
      " [117 152  60]\n",
      " [114 149  57]\n",
      " [114 149  57]\n",
      " [118 155  62]\n",
      " [117 156  64]\n",
      " [112 151  60]\n",
      " [113 152  61]\n",
      " [111 150  57]\n",
      " [111 150  56]\n",
      " [112 155  58]\n",
      " [115 159  67]\n",
      " [119 163  81]\n",
      " [122 165  84]\n",
      " [123 163  78]\n",
      " [120 160  72]\n",
      " [115 154  63]\n",
      " [117 156  61]\n",
      " [117 156  63]\n",
      " [120 159  69]\n",
      " [120 159  70]\n",
      " [120 158  75]\n",
      " [122 161  81]\n",
      " [123 163  79]\n",
      " [123 163  74]\n",
      " [122 164  73]\n",
      " [123 168  75]\n",
      " [129 174  81]\n",
      " [120 165  72]\n",
      " [114 158  66]\n",
      " [113 156  65]\n",
      " [109 152  61]\n",
      " [110 153  67]\n",
      " [112 153  74]\n",
      " [119 158  76]\n",
      " [123 160  73]\n",
      " [123 158  65]\n",
      " [123 157  62]\n",
      " [120 156  62]\n",
      " [123 159  74]\n",
      " [129 166  91]\n",
      " [136 175 105]\n",
      " [134 174 104]\n",
      " [128 170  98]\n",
      " [117 159  85]\n",
      " [113 155  79]\n",
      " [115 152  83]\n",
      " [118 155  84]\n",
      " [121 159  83]\n",
      " [124 162  84]\n",
      " [126 163  80]\n",
      " [131 166  80]\n",
      " [130 166  78]\n",
      " [126 162  73]\n",
      " [120 160  71]\n",
      " [119 160  68]\n",
      " [119 158  64]\n",
      " [121 157  62]\n",
      " [121 158  62]\n",
      " [121 161  64]\n",
      " [119 159  62]\n",
      " [118 158  61]\n",
      " [122 161  68]\n",
      " [127 166  77]\n",
      " [125 164  75]\n",
      " [123 162  73]\n",
      " [118 156  68]\n",
      " [119 159  63]\n",
      " [120 160  63]\n",
      " [122 162  62]\n",
      " [124 162  62]\n",
      " [126 162  63]\n",
      " [127 162  67]\n",
      " [127 162  71]\n",
      " [129 163  77]\n",
      " [130 164  80]\n",
      " [130 163  83]\n",
      " [129 162  84]\n",
      " [128 161  85]\n",
      " [124 160  82]\n",
      " [121 158  78]\n",
      " [121 159  77]\n",
      " [124 162  77]\n",
      " [126 161  77]\n",
      " [129 163  79]\n",
      " [129 163  77]\n",
      " [127 161  73]\n",
      " [126 162  68]\n",
      " [121 159  60]\n",
      " [116 154  55]\n",
      " [117 155  56]\n",
      " [120 158  59]\n",
      " [122 160  61]\n",
      " [125 162  66]\n",
      " [126 161  76]\n",
      " [123 159  85]\n",
      " [123 161  88]\n",
      " [120 158  84]\n",
      " [118 156  75]\n",
      " [115 155  64]\n",
      " [112 152  57]\n",
      " [116 156  60]\n",
      " [118 158  62]\n",
      " [117 157  60]\n",
      " [120 158  59]\n",
      " [119 157  58]\n",
      " [115 152  56]\n",
      " [119 155  60]\n",
      " [125 160  61]\n",
      " [127 164  63]\n",
      " [126 166  64]\n",
      " [118 160  58]\n",
      " [117 155  50]\n",
      " [111 152  46]\n",
      " [104 147  40]\n",
      " [ 97 145  36]\n",
      " [ 99 146  39]\n",
      " [ 93 137  38]\n",
      " [ 92 136  39]\n",
      " [ 95 139  42]\n",
      " [101 143  46]\n",
      " [114 151  56]\n",
      " [114 149  57]\n",
      " [119 152  63]\n",
      " [122 156  69]\n",
      " [119 156  69]\n",
      " [113 153  63]\n",
      " [112 150  60]\n",
      " [114 152  60]\n",
      " [113 152  60]\n",
      " [116 155  65]\n",
      " [119 158  69]\n",
      " [118 157  68]\n",
      " [109 148  57]\n",
      " [111 149  62]\n",
      " [113 151  67]\n",
      " [115 152  72]\n",
      " [117 154  74]\n",
      " [118 155  75]\n",
      " [120 157  78]\n",
      " [125 162  84]\n",
      " [131 161  93]\n",
      " [138 167 101]\n",
      " [139 168 102]\n",
      " [133 162  96]\n",
      " [134 163  98]\n",
      " [130 160  92]\n",
      " [123 156  80]\n",
      " [116 153  70]\n",
      " [108 150  60]\n",
      " [104 147  55]\n",
      " [100 143  51]\n",
      " [103 146  54]\n",
      " [108 153  58]\n",
      " [107 151  56]\n",
      " [110 151  55]\n",
      " [110 149  51]\n",
      " [111 149  47]\n",
      " [114 152  50]\n",
      " [113 151  55]\n",
      " [116 152  62]\n",
      " [119 155  67]\n",
      " [114 154  58]\n",
      " [115 154  61]\n",
      " [119 158  67]\n",
      " [119 158  68]\n",
      " [123 159  68]\n",
      " [123 160  66]\n",
      " [121 158  62]\n",
      " [121 159  61]\n",
      " [118 158  61]\n",
      " [117 157  60]\n",
      " [118 158  61]\n",
      " [116 156  58]\n",
      " [117 155  56]\n",
      " [115 153  52]\n",
      " [117 155  54]\n",
      " [123 161  60]\n",
      " [128 166  68]\n",
      " [129 166  71]\n",
      " [123 160  74]\n",
      " [123 162  83]\n",
      " [130 167  90]\n",
      " [131 168  91]\n",
      " [127 164  87]\n",
      " [121 158  81]\n",
      " [116 154  74]\n",
      " [112 150  66]\n",
      " [111 150  62]\n",
      " [116 155  64]\n",
      " [115 153  69]\n",
      " [117 154  74]\n",
      " [115 152  72]\n",
      " [118 155  75]\n",
      " [117 155  74]\n",
      " [116 154  71]\n",
      " [116 152  70]\n",
      " [116 149  68]\n",
      " [116 148  69]\n",
      " [120 148  73]\n",
      " [124 152  75]\n",
      " [117 148  68]\n",
      " [111 144  63]\n",
      " [107 145  62]\n",
      " [113 151  68]\n",
      " [118 156  73]\n",
      " [118 156  71]\n",
      " [116 156  67]\n",
      " [112 153  58]\n",
      " [109 151  51]\n",
      " [109 152  46]\n",
      " [102 150  50]\n",
      " [104 151  59]\n",
      " [111 156  73]\n",
      " [110 154  72]\n",
      " [110 152  67]\n",
      " [115 153  68]\n",
      " [123 161  76]\n",
      " [125 163  78]\n",
      " [122 162  74]\n",
      " [123 162  84]\n",
      " [122 159  90]\n",
      " [126 162  98]\n",
      " [132 167  99]\n",
      " [136 165 101]\n",
      " [136 165 101]\n",
      " [136 165 101]\n",
      " [136 165 101]\n",
      " [136 165 101]\n",
      " [136 165 101]\n",
      " [136 165 101]\n",
      " [136 165 101]\n",
      " [136 165 101]\n",
      " [136 165 101]\n",
      " [136 165 101]\n",
      " [136 165 101]\n",
      " [136 165 101]\n",
      " [136 165 101]\n",
      " [136 165 101]\n",
      " [136 165 101]\n",
      " [136 165 101]\n",
      " [136 165 101]]\n"
     ]
    }
   ],
   "source": [
    "from keras.src.preprocessing.image import ImageDataGenerator\n",
    "\n",
    "# Create an ImageDataGenerator instance with various data augmentation parameters\n",
    "data_gen = ImageDataGenerator(\n",
    "    # rescale=1./255,         # Scale the images to values between 0 and 1\n",
    "    rotation_range=10,      # Randomly rotate images by up to 10 degrees\n",
    "    width_shift_range=0.1,  # Randomly shift images horizontally by up to 10%\n",
    "    height_shift_range=0.1, # Randomly shift images vertically by up to 10%\n",
    "    shear_range=0.2,        # Shear transformation to tilt the image by up to 20%\n",
    "    zoom_range=0.2,         # Randomly zoom in on images by up to 20%\n",
    "    # horizontal_flip=True,   # Randomly flip images horizontally, does not make sense in or case\n",
    "    vertical_flip=False,    # No vertical flipping in this example\n",
    "    fill_mode='nearest'     # Fill in missing pixels with the nearest available pixel\n",
    ")\n",
    "\n",
    "# Create a dataset from the images in the folder (with 400 images per dataset)\n",
    "# The images are augmented to the parameters specified above\n",
    "data = data_gen.flow_from_directory(\n",
    "    'photos', \n",
    "    batch_size=400, \n",
    "    class_mode='binary',    # Binary classification (Kaninchen or Feldhase)\n",
    "    shuffle=True\n",
    ")\n",
    "\n",
    "# Create a data iterator for the dataset\n",
    "data_iterator = iter(data)\n",
    "\n",
    "# Example: Fetch the first batch from the iterator\n",
    "images, labels = next(data_iterator)\n",
    "\n",
    "# Inspect the first row of pixels of the first image in RGB\n",
    "print(images[0].astype(int)[0])"
   ],
   "metadata": {
    "collapsed": false,
    "ExecuteTime": {
     "end_time": "2024-01-09T22:21:29.013217Z",
     "start_time": "2024-01-09T22:21:24.641167Z"
    }
   },
   "id": "3c5775b28d29e1ad",
   "execution_count": 179
  },
  {
   "cell_type": "markdown",
   "source": [
    "# Inspect the shape of the images"
   ],
   "metadata": {
    "collapsed": false
   },
   "id": "5f74c98d9a263e2a"
  },
  {
   "cell_type": "code",
   "outputs": [
    {
     "name": "stdout",
     "output_type": "stream",
     "text": [
      "Number of images: 400\n",
      "Number of classes: 2\n"
     ]
    }
   ],
   "source": [
    "num_images = len(images)\n",
    "num_classes = len(np.unique(labels))\n",
    "print(f\"Number of images: {num_images}\")\n",
    "print(f\"Number of classes: {num_classes}\")"
   ],
   "metadata": {
    "collapsed": false,
    "ExecuteTime": {
     "end_time": "2024-01-09T22:21:29.014171Z",
     "start_time": "2024-01-09T22:21:29.011090Z"
    }
   },
   "id": "eba3ac2661631aed",
   "execution_count": 180
  },
  {
   "cell_type": "markdown",
   "source": [
    "## Scale the images\n",
    "\n",
    "This can be done here with /255, as the value range of RGB is only between 0 and 255."
   ],
   "metadata": {
    "collapsed": false
   },
   "id": "f7207de87345f96d"
  },
  {
   "cell_type": "code",
   "outputs": [
    {
     "name": "stdout",
     "output_type": "stream",
     "text": [
      "[[0.41568628 0.5882353  0.21568628]\n",
      " [0.41568628 0.5882353  0.21568628]\n",
      " [0.41568628 0.5882353  0.21568628]\n",
      " [0.41568628 0.5882353  0.21568628]\n",
      " [0.41568628 0.5882353  0.21568628]\n",
      " [0.41568628 0.5882353  0.21568628]\n",
      " [0.41568628 0.5882353  0.21568628]\n",
      " [0.41568628 0.5882353  0.21568628]\n",
      " [0.42101178 0.5935608  0.22101177]\n",
      " [0.4449965  0.6175455  0.24499649]\n",
      " [0.444039   0.616588   0.24403897]\n",
      " [0.43926257 0.6079369  0.24701194]\n",
      " [0.44385144 0.6042787  0.23493701]\n",
      " [0.4509804  0.60784316 0.23061146]\n",
      " [0.45447558 0.60551304 0.23094617]\n",
      " [0.45960703 0.5968619  0.23607759]\n",
      " [0.4489829  0.5862378  0.22545347]\n",
      " [0.45026827 0.58752316 0.22673886]\n",
      " [0.46602592 0.6088428  0.24527748]\n",
      " [0.46103334 0.6125013  0.25416535]\n",
      " [0.4408788  0.59382    0.23695722]\n",
      " [0.4469161  0.5998573  0.24285181]\n",
      " [0.43874037 0.5916815  0.22697563]\n",
      " [0.43617344 0.5917526  0.22265008]\n",
      " [0.4417823  0.6090548  0.22859097]\n",
      " [0.45212066 0.6246697  0.26561895]\n",
      " [0.46718857 0.6397376  0.31947377]\n",
      " [0.4795003  0.64705884 0.3326218 ]\n",
      " [0.48235294 0.6412604  0.30809486]\n",
      " [0.4724433  0.6293061  0.28544477]\n",
      " [0.4520523  0.60520786 0.24898826]\n",
      " [0.45882353 0.61549664 0.23959488]\n",
      " [0.46119785 0.614139   0.2506203 ]\n",
      " [0.47351223 0.6264534  0.2715858 ]\n",
      " [0.47198978 0.62352943 0.2773129 ]\n",
      " [0.47089878 0.6217239  0.2949916 ]\n",
      " [0.47992373 0.63286483 0.31864193]\n",
      " [0.4849691  0.64052373 0.30980927]\n",
      " [0.48235294 0.6392157  0.29290837]\n",
      " [0.47893152 0.64605856 0.28677464]\n",
      " [0.48608223 0.6623605  0.2977508 ]\n",
      " [0.5073412  0.6838118  0.3191059 ]\n",
      " [0.4727368  0.64920735 0.2845015 ]\n",
      " [0.44705883 0.6212978  0.25993934]\n",
      " [0.44401923 0.6126467  0.25666597]\n",
      " [0.4276731  0.59630054 0.23936377]\n",
      " [0.43430826 0.60060793 0.26628873]\n",
      " [0.44159538 0.60356957 0.2901961 ]\n",
      " [0.47057277 0.62195    0.29960322]\n",
      " [0.48551077 0.627451   0.28780204]\n",
      " [0.48237506 0.61960787 0.25875723]\n",
      " [0.4845702  0.6187557  0.24578059]\n",
      " [0.4730784  0.6142549  0.2444248 ]\n",
      " [0.483587   0.6259975  0.2907718 ]\n",
      " [0.50920683 0.6543049  0.35695964]\n",
      " [0.53709245 0.6883165  0.4138067 ]\n",
      " [0.5259954  0.6853041  0.41079432]\n",
      " [0.50446886 0.6681031  0.38789338]\n",
      " [0.45899183 0.62369776 0.3348369 ]\n",
      " [0.44366452 0.6083704  0.3108585 ]\n",
      " [0.4514014  0.59649944 0.32577085]\n",
      " [0.46383375 0.60947615 0.3322447 ]\n",
      " [0.47627807 0.62529767 0.32928342]\n",
      " [0.4887085  0.6390804  0.3317105 ]\n",
      " [0.49423778 0.6401539  0.31723803]\n",
      " [0.5137255  0.6531406  0.31724814]\n",
      " [0.5111612  0.65233773 0.30859703]\n",
      " [0.4979311  0.6391076  0.2880731 ]\n",
      " [0.47388452 0.62854975 0.27898076]\n",
      " [0.46681207 0.627451   0.26710287]\n",
      " [0.46718383 0.61960787 0.25438482]\n",
      " [0.4745098  0.61894524 0.24573371]\n",
      " [0.47557634 0.621019   0.24348186]\n",
      " [0.47696084 0.6338236  0.25343144]\n",
      " [0.4688863  0.62574905 0.24535687]\n",
      " [0.4650236  0.6218863  0.24149416]\n",
      " [0.480079   0.6342593  0.26996192]\n",
      " [0.5017067  0.65464795 0.30395806]\n",
      " [0.49192062 0.6448618  0.2958422 ]\n",
      " [0.48240724 0.63534844 0.28632882]\n",
      " [0.46312192 0.6128952  0.2683273 ]\n",
      " [0.46744746 0.62431026 0.24705882]\n",
      " [0.47295782 0.6298205  0.24705882]\n",
      " [0.48002014 0.63847166 0.24547006]\n",
      " [0.4883312  0.63915175 0.24313726]\n",
      " [0.49651438 0.63769084 0.25032744]\n",
      " [0.49803922 0.63641495 0.26330408]\n",
      " [0.49803922 0.63529414 0.27948543]\n",
      " [0.50886524 0.6425115  0.30400497]\n",
      " [0.50989497 0.6431373  0.31399873]\n",
      " [0.51323044 0.6426422  0.32598528]\n",
      " [0.5089049  0.6374176  0.3303108 ]\n",
      " [0.5045793  0.6326756  0.33333334]\n",
      " [0.49001175 0.62846607 0.32479832]\n",
      " [0.4745098  0.61960787 0.3095035 ]\n",
      " [0.4770248  0.6246378  0.30336738]\n",
      " [0.48718822 0.6362079  0.30487972]\n",
      " [0.49684194 0.63256985 0.30255944]\n",
      " [0.50921994 0.64255327 0.31314152]\n",
      " [0.50917596 0.6425093  0.30504507]\n",
      " [0.49803922 0.63198584 0.28774285]\n",
      " [0.49498737 0.63529414 0.26738882]\n",
      " [0.47632566 0.6253453  0.23710996]\n",
      " [0.4569983  0.6060179  0.21778259]\n",
      " [0.45936042 0.60838    0.22014473]\n",
      " [0.47327793 0.6222975  0.23406224]\n",
      " [0.48146856 0.6304882  0.24225287]\n",
      " [0.49267644 0.6382549  0.2603431 ]\n",
      " [0.49411765 0.6315254  0.3011966 ]\n",
      " [0.4826805  0.6245121  0.33464357]\n",
      " [0.48481143 0.633831   0.34755653]\n",
      " [0.4738893  0.6229089  0.33209226]\n",
      " [0.4627451  0.61484367 0.2959484 ]\n",
      " [0.45302767 0.6079469  0.25313142]\n",
      " [0.4407898  0.59607846 0.22433014]\n",
      " [0.4557244  0.61258715 0.23611654]\n",
      " [0.46590054 0.6227633  0.24629268]\n",
      " [0.45954785 0.6164106  0.23638059]\n",
      " [0.47058824 0.61960787 0.23137255]\n",
      " [0.46835923 0.616933   0.23003513]\n",
      " [0.45352975 0.5986278  0.22300698]\n",
      " [0.47026768 0.61160445 0.23654789]\n",
      " [0.49124774 0.6278966  0.24253118]\n",
      " [0.49803922 0.64333916 0.24912055]\n",
      " [0.49557352 0.65199023 0.2534461 ]\n",
      " [0.46542075 0.62907475 0.22907476]\n",
      " [0.4614493  0.6097868  0.19996582]\n",
      " [0.43700156 0.5968102  0.18136781]\n",
      " [0.4104842  0.57991195 0.159984  ]\n",
      " [0.38264832 0.57088363 0.14343265]\n",
      " [0.38930225 0.5746335  0.15492669]\n",
      " [0.36588344 0.540982   0.14901961]\n",
      " [0.36433628 0.53688526 0.15434757]\n",
      " [0.3729874  0.5455364  0.16514425]\n",
      " [0.39972612 0.56193936 0.18154721]\n",
      " [0.44761986 0.5955188  0.22110254]\n",
      " [0.4486478  0.586962   0.22458874]\n",
      " [0.46983418 0.5994973  0.25010064]\n",
      " [0.48179632 0.612043   0.27086654]\n",
      " [0.4697338  0.6136394  0.27109838]\n",
      " [0.4448863  0.60066277 0.24947062]\n",
      " [0.4421962  0.5906666  0.23529412]\n",
      " [0.45084727 0.59770644 0.23908257]\n",
      " [0.44570914 0.5986503  0.23854084]\n",
      " [0.45542884 0.60837    0.25691164]\n",
      " [0.46895742 0.62189865 0.272879  ]\n",
      " [0.46356794 0.61650914 0.2674895 ]\n",
      " [0.42751792 0.58045906 0.2236112 ]\n",
      " [0.43608722 0.58510685 0.24472344]\n",
      " [0.44473833 0.5929574  0.2636267 ]\n",
      " [0.45218492 0.59728295 0.28355744]\n",
      " [0.4597274  0.6048255  0.29109997]\n",
      " [0.4646542  0.60975224 0.29602677]\n",
      " [0.4724109  0.61750895 0.30861634]\n",
      " [0.4925335  0.6376316  0.3317492 ]\n",
      " [0.5141613  0.63346404 0.3662746 ]\n",
      " [0.5430458  0.6567713  0.39794776]\n",
      " [0.548244   0.6619695  0.40314594]\n",
      " [0.5220834  0.6358089  0.37801495]\n",
      " [0.5254902  0.6392157  0.38639775]\n",
      " [0.51226276 0.6299565  0.36187372]\n",
      " [0.48282105 0.6134915  0.31512985]\n",
      " [0.45712426 0.6007713  0.27639225]\n",
      " [0.42654225 0.5882353  0.23715913]\n",
      " [0.4107918  0.5794193  0.21863496]\n",
      " [0.3944725  0.5631     0.20231567]\n",
      " [0.40714338 0.57577085 0.21498652]\n",
      " [0.4269929  0.60323447 0.23068541]\n",
      " [0.42213994 0.5927899  0.21960784]\n",
      " [0.43425712 0.59400445 0.21649681]\n",
      " [0.43281356 0.5867943  0.20352018]\n",
      " [0.4371391  0.58800364 0.18685359]\n",
      " [0.4482115  0.5989037  0.19896008]\n",
      " [0.44694316 0.5933098  0.21568628]\n",
      " [0.4553649  0.597406   0.24625538]\n",
      " [0.4692062  0.6103827  0.26528463]\n",
      " [0.447399   0.60403496 0.22801794]\n",
      " [0.45236954 0.60531074 0.24129939]\n",
      " [0.46666667 0.61960787 0.26424763]\n",
      " [0.4701324  0.61960787 0.269433  ]\n",
      " [0.48310906 0.6258447  0.2682259 ]\n",
      " [0.48430645 0.6294045  0.2607722 ]\n",
      " [0.4760642  0.6211622  0.24624601]\n",
      " [0.47728097 0.6251502  0.24036609]\n",
      " [0.46573076 0.62110066 0.23921569]\n",
      " [0.45916596 0.6160287  0.23563656]\n",
      " [0.46648204 0.6233448  0.24295263]\n",
      " [0.45583302 0.6117647  0.2304415 ]\n",
      " [0.46100608 0.6100257  0.22005138]\n",
      " [0.45362848 0.6026481  0.20656964]\n",
      " [0.4627227  0.61174226 0.21566385]\n",
      " [0.4846757  0.63369536 0.2376169 ]\n",
      " [0.50510865 0.65164286 0.26799157]\n",
      " [0.50794667 0.6530447  0.27946353]\n",
      " [0.4828286  0.63122004 0.29160494]\n",
      " [0.4858261  0.6385431  0.327394  ]\n",
      " [0.5101635  0.6552615  0.35330075]\n",
      " [0.51647955 0.6615776  0.3596168 ]\n",
      " [0.5019019  0.647      0.3450392 ]\n",
      " [0.4756479  0.62074596 0.31878516]\n",
      " [0.45801824 0.60491204 0.29217696]\n",
      " [0.44093758 0.5899571  0.2600676 ]\n",
      " [0.43661204 0.5882353  0.24448727]\n",
      " [0.45634767 0.6092888  0.25425395]\n",
      " [0.45251018 0.60203975 0.27247006]\n",
      " [0.46242723 0.60763127 0.29358786]\n",
      " [0.4521725  0.59727055 0.28354505]\n",
      " [0.46596467 0.6110627  0.29733723]\n",
      " [0.4605331  0.60784316 0.29079968]\n",
      " [0.45490196 0.6063332  0.280843  ]\n",
      " [0.45490196 0.5981797  0.2746035 ]\n",
      " [0.45490196 0.587521   0.2682703 ]\n",
      " [0.45762387 0.5815918  0.2721105 ]\n",
      " [0.474453   0.5803922  0.28701335]\n",
      " [0.489021   0.59804153 0.2972558 ]\n",
      " [0.46267137 0.5842646  0.2705268 ]\n",
      " [0.4367181  0.56821114 0.2497316 ]\n",
      " [0.42060778 0.56962734 0.24413717]\n",
      " [0.44656107 0.5955807  0.27009046]\n",
      " [0.4627451  0.6117647  0.28627452]\n",
      " [0.4627451  0.6117647  0.28221014]\n",
      " [0.45787275 0.6142009  0.26381436]\n",
      " [0.44070122 0.6014855  0.22934058]\n",
      " [0.42880583 0.5928343  0.20338719]\n",
      " [0.4310991  0.5994531  0.18175943]\n",
      " [0.40026104 0.5883658  0.19699211]\n",
      " [0.41158468 0.59482944 0.23208153]\n",
      " [0.43529412 0.6117647  0.2881515 ]\n",
      " [0.43260917 0.6077373  0.28472036]\n",
      " [0.43443677 0.59650713 0.2631738 ]\n",
      " [0.4538894  0.602909   0.2695757 ]\n",
      " [0.48318037 0.6322     0.29886666]\n",
      " [0.49115926 0.64017886 0.30684555]\n",
      " [0.48010895 0.6358533  0.29243287]\n",
      " [0.48596406 0.63529414 0.331626  ]\n",
      " [0.47942644 0.62427574 0.35493132]\n",
      " [0.4973814  0.6392106  0.38496646]\n",
      " [0.5190092  0.65565336 0.39034876]\n",
      " [0.53333336 0.64705884 0.39607844]\n",
      " [0.53333336 0.64705884 0.39607844]\n",
      " [0.53333336 0.64705884 0.39607844]\n",
      " [0.53333336 0.64705884 0.39607844]\n",
      " [0.53333336 0.64705884 0.39607844]\n",
      " [0.53333336 0.64705884 0.39607844]\n",
      " [0.53333336 0.64705884 0.39607844]\n",
      " [0.53333336 0.64705884 0.39607844]\n",
      " [0.53333336 0.64705884 0.39607844]\n",
      " [0.53333336 0.64705884 0.39607844]\n",
      " [0.53333336 0.64705884 0.39607844]\n",
      " [0.53333336 0.64705884 0.39607844]\n",
      " [0.53333336 0.64705884 0.39607844]\n",
      " [0.53333336 0.64705884 0.39607844]\n",
      " [0.53333336 0.64705884 0.39607844]\n",
      " [0.53333336 0.64705884 0.39607844]\n",
      " [0.53333336 0.64705884 0.39607844]\n",
      " [0.53333336 0.64705884 0.39607844]]\n"
     ]
    }
   ],
   "source": [
    "images = images / 255.0 # divide by float forces the result to be a float\n",
    "\n",
    "# Inspect scaled first row of pixels of the first image in RGB\n",
    "print(images[0][0])"
   ],
   "metadata": {
    "collapsed": false,
    "ExecuteTime": {
     "end_time": "2024-01-09T22:21:29.229549Z",
     "start_time": "2024-01-09T22:21:29.015329Z"
    }
   },
   "id": "aaf79a2013bd77da",
   "execution_count": 181
  },
  {
   "cell_type": "markdown",
   "source": [
    "# Split the data into train and test data"
   ],
   "metadata": {
    "collapsed": false
   },
   "id": "b56faac4597f778e"
  },
  {
   "cell_type": "code",
   "execution_count": 182,
   "outputs": [],
   "source": [
    "X_train, X_test, y_train, y_test = train_test_split(images, labels, test_size=0.2, random_state=42)"
   ],
   "metadata": {
    "collapsed": false,
    "ExecuteTime": {
     "end_time": "2024-01-09T22:21:29.327720Z",
     "start_time": "2024-01-09T22:21:29.233969Z"
    }
   },
   "id": "b7a16aa0fe3589b3"
  },
  {
   "cell_type": "markdown",
   "source": [
    "# Create the model"
   ],
   "metadata": {
    "collapsed": false
   },
   "id": "71f9cc0962bdb078"
  },
  {
   "cell_type": "code",
   "execution_count": 183,
   "outputs": [],
   "source": [
    "# sequential means that the layers are stacked on top of each other leading to a feed forward neural network\n",
    "model = tf.keras.models.Sequential([\n",
    "    # Adding a convolutional layer to detect features in the images\n",
    "    \n",
    "    # 16 filters to detect 16 different features like edges, textures, structure etc.\n",
    "    # 3x3 kernel size to detect features in a 3x3 area\n",
    "    # 1 stride to move the kernel by 1 pixel\n",
    "    # relu activation function to introduce non-linearity\n",
    "    # input shape: height, width, colors/channels (RGB)\n",
    "    tf.keras.layers.Conv2D(16, (3, 3), 1, activation='relu', input_shape=(256, 256, 3)), # output shape: 254x254x16 (width, height, features)\n",
    "\n",
    "    # Adding a max pooling layer to reduce the dimensionality of the data\n",
    "    # achieved by taking the maximum value of a 2x2 area as the representative value for that area\n",
    "    tf.keras.layers.MaxPool2D(), # output shape: 127x127x16\n",
    "    \n",
    "    # Adding more layers to continously learn more complex features\n",
    "    # Continouse learning of more complex features is achieved by increasing the number of filters\n",
    "    # A more compact representation of the data is achieved by reducing the kernel size continuously via max pooling\n",
    "    tf.keras.layers.Conv2D(32, (3, 3), 1, activation='relu'), # output shape: 125x125x32\n",
    "    tf.keras.layers.MaxPool2D(), # output shape: 62x62x32\n",
    "    tf.keras.layers.Conv2D(64, (3, 3), 1, activation='relu'), # output shape: 60x60x64\n",
    "    tf.keras.layers.MaxPooling2D(), # output shape: 30x30x64 (width, height, features)\n",
    "    \n",
    "    # Adding a flatten layer to transform the 2D data into a 1D vector\n",
    "    tf.keras.layers.Flatten(), # output shape: 57600\n",
    "    \n",
    "    # Adding a dense layer to learn the classification\n",
    "    tf.keras.layers.Dense(256, activation='relu'),\n",
    "    \n",
    "    # Adding the output layer to classify the images - either as a Kaninchen or as a Feldhase\n",
    "    tf.keras.layers.Dense(1, activation='sigmoid')\n",
    "])"
   ],
   "metadata": {
    "collapsed": false,
    "ExecuteTime": {
     "end_time": "2024-01-09T22:21:29.415776Z",
     "start_time": "2024-01-09T22:21:29.345084Z"
    }
   },
   "id": "ac8960157002f51d"
  },
  {
   "cell_type": "markdown",
   "source": [
    "# Configuring the neural network model"
   ],
   "metadata": {
    "collapsed": false
   },
   "id": "6fe83a9ecd40dd4b"
  },
  {
   "cell_type": "code",
   "execution_count": 184,
   "outputs": [],
   "source": [
    "# 'compile' configures the selected neural network model\n",
    "# 'adam' adapts the learning rate of each parameter individually, aiming to minimize the loss function (binary crossentropy in our case)\n",
    "# the metrics are used to measure the performance of the model\n",
    "model.compile('adam', loss=tf.losses.BinaryCrossentropy(), metrics=['accuracy'])"
   ],
   "metadata": {
    "collapsed": false,
    "ExecuteTime": {
     "end_time": "2024-01-09T22:21:29.426280Z",
     "start_time": "2024-01-09T22:21:29.420589Z"
    }
   },
   "id": "5735edff61b2a4e9"
  },
  {
   "cell_type": "markdown",
   "source": [
    "# Train the model using early stopping and a customized learning rate"
   ],
   "metadata": {
    "collapsed": false
   },
   "id": "9aa22a7757a8421b"
  },
  {
   "cell_type": "code",
   "execution_count": 194,
   "outputs": [
    {
     "name": "stdout",
     "output_type": "stream",
     "text": [
      "Epoch 1/20\n",
      "1/1 [==============================] - 9s 9s/step - loss: 0.0509 - accuracy: 0.9906 - val_loss: 1.0688 - val_accuracy: 0.7250\n",
      "Epoch 2/20\n",
      "1/1 [==============================] - 6s 6s/step - loss: 0.0478 - accuracy: 0.9875 - val_loss: 1.0617 - val_accuracy: 0.7000\n",
      "Epoch 3/20\n",
      "1/1 [==============================] - 7s 7s/step - loss: 0.0377 - accuracy: 0.9937 - val_loss: 1.0483 - val_accuracy: 0.7000\n",
      "Epoch 4/20\n",
      "1/1 [==============================] - 6s 6s/step - loss: 0.0263 - accuracy: 1.0000 - val_loss: 1.0497 - val_accuracy: 0.6750\n",
      "Epoch 5/20\n",
      "1/1 [==============================] - 10s 10s/step - loss: 0.0189 - accuracy: 1.0000 - val_loss: 1.0781 - val_accuracy: 0.6875\n",
      "Epoch 6/20\n",
      "1/1 [==============================] - 16s 16s/step - loss: 0.0166 - accuracy: 1.0000 - val_loss: 1.1265 - val_accuracy: 0.6500\n",
      "Epoch 7/20\n",
      "1/1 [==============================] - 8s 8s/step - loss: 0.0181 - accuracy: 1.0000 - val_loss: 1.1782 - val_accuracy: 0.6500\n",
      "Epoch 8/20\n",
      "1/1 [==============================] - 6s 6s/step - loss: 0.0211 - accuracy: 1.0000 - val_loss: 1.2137 - val_accuracy: 0.6500\n",
      "Epoch 9/20\n",
      "1/1 [==============================] - 7s 7s/step - loss: 0.0229 - accuracy: 1.0000 - val_loss: 1.2215 - val_accuracy: 0.6625\n",
      "Epoch 10/20\n",
      "1/1 [==============================] - 7s 7s/step - loss: 0.0217 - accuracy: 1.0000 - val_loss: 1.2046 - val_accuracy: 0.6500\n",
      "Epoch 11/20\n",
      "1/1 [==============================] - 7s 7s/step - loss: 0.0180 - accuracy: 1.0000 - val_loss: 1.1776 - val_accuracy: 0.6375\n"
     ]
    }
   ],
   "source": [
    "# Implementing early stopping to prevent overfitting\n",
    "# 'patience' is the number of epochs with no improvement after which training will be stopped\n",
    "# 'restore_best_weights' restores the weights from the epoch with the best value of the monitored quantity\n",
    "early_stopping = tf.keras.callbacks.EarlyStopping(monitor='val_accuracy', patience=10, restore_best_weights=True)\n",
    "\n",
    "# Implementing a customized learning rate\n",
    "initial_learning_rate = 0.1\n",
    "# 'ExponentialDecay' applies an exponential decay function to an integer argument representing the number of steps\n",
    "lr_schedule = tf.keras.optimizers.schedules.ExponentialDecay(\n",
    "    initial_learning_rate, \n",
    "    decay_steps=10000, # decay the learning rate every 10000 steps\n",
    "    decay_rate=0.9,    # decay by 90%\n",
    "    staircase=True)    # decay will occur at discrete intervals rather than continuously\n",
    "\n",
    "# Initialize the optimizer with the customized learning rate\n",
    "optimizer = tf.keras.optimizers.legacy.Adam(learning_rate=lr_schedule)\n",
    "\n",
    "# 'fit' trains the model\n",
    "# 'epochs' is the number of times the model is trained on the whole dataset\n",
    "hist = model.fit(X_train, y_train, validation_data=(X_test, y_test), epochs=20, batch_size=400, callbacks=[early_stopping])"
   ],
   "metadata": {
    "collapsed": false,
    "ExecuteTime": {
     "end_time": "2024-01-09T22:26:53.593652Z",
     "start_time": "2024-01-09T22:25:24.270308Z"
    }
   },
   "id": "c23bfe63e3a4aa42"
  },
  {
   "cell_type": "markdown",
   "source": [
    "# Plot the training and the validation accuracy, as well as the loss"
   ],
   "metadata": {
    "collapsed": false
   },
   "id": "e5c569326fdb0a4e"
  },
  {
   "cell_type": "code",
   "execution_count": 195,
   "outputs": [
    {
     "data": {
      "text/plain": "<Figure size 640x480 with 1 Axes>",
      "image/png": "[encoded data removed]"
     },
     "metadata": {},
     "output_type": "display_data"
    }
   ],
   "source": [
    "import matplotlib.pyplot as plt\n",
    "\n",
    "# Plot the training and the validation accuracy and loss in one figure\n",
    "plt.plot(hist.history['accuracy'])\n",
    "plt.plot(hist.history['val_accuracy'])\n",
    "plt.plot(hist.history['loss'])\n",
    "plt.plot(hist.history['val_loss'])\n",
    "plt.title('Model accuracy and loss')\n",
    "plt.ylabel('Accuracy and loss')\n",
    "plt.xlabel('Epoch')\n",
    "plt.ylim(0, 1.05)\n",
    "plt.legend(['Training accuracy', 'Validation accuracy', 'Training loss', 'Validation loss'], loc='lower right')\n",
    "plt.show()"
   ],
   "metadata": {
    "collapsed": false,
    "ExecuteTime": {
     "end_time": "2024-01-09T22:28:02.167709Z",
     "start_time": "2024-01-09T22:28:02.017560Z"
    }
   },
   "id": "e4938f86e937cf82"
  },
  {
   "cell_type": "code",
   "execution_count": 196,
   "outputs": [
    {
     "name": "stdout",
     "output_type": "stream",
     "text": [
      "3/3 - 1s - loss: 1.0688 - accuracy: 0.7250 - 563ms/epoch - 188ms/step\n",
      "Test accuracy: 0.7250000238418579\n"
     ]
    }
   ],
   "source": [
    "# Evaluate the model based on the test data\n",
    "test_loss, test_acc = model.evaluate(X_test, y_test, verbose=2) # verbose=2 to suppress the progress bar\n",
    "print(f'Test accuracy: {test_acc}')"
   ],
   "metadata": {
    "collapsed": false,
    "ExecuteTime": {
     "end_time": "2024-01-09T22:28:03.314343Z",
     "start_time": "2024-01-09T22:28:02.425793Z"
    }
   },
   "id": "271587a53471d18c"
  },
  {
   "cell_type": "code",
   "execution_count": 187,
   "outputs": [],
   "source": [],
   "metadata": {
    "collapsed": false,
    "ExecuteTime": {
     "end_time": "2024-01-09T22:22:00.500609Z",
     "start_time": "2024-01-09T22:22:00.495595Z"
    }
   },
   "id": "bc1c3296edc803f"
  },
  {
   "cell_type": "code",
   "execution_count": 187,
   "outputs": [],
   "source": [],
   "metadata": {
    "collapsed": false,
    "ExecuteTime": {
     "end_time": "2024-01-09T22:22:00.511142Z",
     "start_time": "2024-01-09T22:22:00.501143Z"
    }
   },
   "id": "8a1be1023eebe10a"
  }
 ],
 "metadata": {
  "kernelspec": {
   "display_name": "Python 3",
   "language": "python",
   "name": "python3"
  },
  "language_info": {
   "codemirror_mode": {
    "name": "ipython",
    "version": 2
   },
   "file_extension": ".py",
   "mimetype": "text/x-python",
   "name": "python",
   "nbconvert_exporter": "python",
   "pygments_lexer": "ipython2",
   "version": "2.7.6"
  }
 },
 "nbformat": 4,
 "nbformat_minor": 5
}
