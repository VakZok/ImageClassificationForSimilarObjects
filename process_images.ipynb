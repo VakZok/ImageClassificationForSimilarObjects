{
 "cells": [
  {
   "cell_type": "markdown",
   "source": [
    "# Image Processor\n",
    "The goal of this notebook is to create a model that can classify images of the following two classes:\n",
    "- Kaninchen\n",
    "- Feldhase\n",
    "\n",
    "The comments in this notebook are plenty and generated mostly using the help of artificial intelligence. This approach is chosen, as it enables both the developers and the users of this notebook to understand the code better."
   ],
   "metadata": {
    "collapsed": false
   },
   "id": "52335692d14e9776"
  },
  {
   "cell_type": "markdown",
   "source": [
    "# Imports"
   ],
   "metadata": {
    "collapsed": false
   },
   "id": "3693b8f986328b26"
  },
  {
   "cell_type": "code",
   "outputs": [],
   "source": [
    "import numpy as np\n",
    "import tensorflow as tf\n",
    "from sklearn.model_selection import train_test_split"
   ],
   "metadata": {
    "collapsed": false,
    "ExecuteTime": {
     "end_time": "2024-01-09T20:36:22.554208Z",
     "start_time": "2024-01-09T20:36:22.544470Z"
    }
   },
   "id": "f942088f6822c409",
   "execution_count": 52
  },
  {
   "cell_type": "markdown",
   "source": [
    "# Adjust the GPU memory growth dynamically"
   ],
   "metadata": {
    "collapsed": false
   },
   "id": "1386b3984ac34736"
  },
  {
   "cell_type": "code",
   "execution_count": 54,
   "outputs": [
    {
     "data": {
      "text/plain": "[]"
     },
     "execution_count": 54,
     "metadata": {},
     "output_type": "execute_result"
    }
   ],
   "source": [
    "gpus = tf.config.experimental.list_physical_devices('GPU') # Get the list of GPUs\n",
    "for gpu in gpus: \n",
    "    tf.config.experimental.set_memory_growth(gpu, True) # enable tensorflow to allocate memory dynamically -> use only as much GPU memory as needed\n",
    "gpus"
   ],
   "metadata": {
    "collapsed": false,
    "ExecuteTime": {
     "end_time": "2024-01-09T20:36:44.783478Z",
     "start_time": "2024-01-09T20:36:44.777599Z"
    }
   },
   "id": "150016df4048127"
  },
  {
   "cell_type": "code",
   "execution_count": 55,
   "outputs": [
    {
     "data": {
      "text/plain": "[]"
     },
     "execution_count": 55,
     "metadata": {},
     "output_type": "execute_result"
    }
   ],
   "source": [
    "tf.config.list_physical_devices('GPU') # Check if GPU is available"
   ],
   "metadata": {
    "collapsed": false,
    "ExecuteTime": {
     "end_time": "2024-01-09T20:36:45.450423Z",
     "start_time": "2024-01-09T20:36:45.445506Z"
    }
   },
   "id": "b7cdfe5e88fb1c3"
  },
  {
   "cell_type": "markdown",
   "source": [
    "# Load images and transform them into a numpy array"
   ],
   "metadata": {
    "collapsed": false
   },
   "id": "c19d96e6b9493e62"
  },
  {
   "cell_type": "code",
   "outputs": [
    {
     "name": "stdout",
     "output_type": "stream",
     "text": [
      "Found 400 files belonging to 2 classes.\n",
      "[[32 42 18]\n",
      " [33 43 19]\n",
      " [34 44 20]\n",
      " [35 45 21]\n",
      " [35 45 21]\n",
      " [37 45 22]\n",
      " [37 45 22]\n",
      " [37 45 22]\n",
      " [38 46 23]\n",
      " [43 51 28]\n",
      " [42 50 27]\n",
      " [43 51 30]\n",
      " [42 50 29]\n",
      " [38 46 25]\n",
      " [38 46 25]\n",
      " [37 45 24]\n",
      " [37 45 22]\n",
      " [38 46 23]\n",
      " [42 50 27]\n",
      " [40 48 25]\n",
      " [39 47 24]\n",
      " [40 48 27]\n",
      " [38 46 25]\n",
      " [36 44 23]\n",
      " [32 40 19]\n",
      " [28 36 15]\n",
      " [25 33 12]\n",
      " [22 32  8]\n",
      " [21 30  9]\n",
      " [23 32 13]\n",
      " [19 28  9]\n",
      " [18 27 10]\n",
      " [14 25  8]\n",
      " [12 23  6]\n",
      " [13 24  7]\n",
      " [13 24  7]\n",
      " [13 24  7]\n",
      " [12 24  4]\n",
      " [13 25  3]\n",
      " [14 26  2]\n",
      " [16 29  3]\n",
      " [18 31  3]\n",
      " [22 35  5]\n",
      " [23 39  0]\n",
      " [26 43  1]\n",
      " [29 46  1]\n",
      " [33 51  3]\n",
      " [36 54  2]\n",
      " [39 55  6]\n",
      " [41 57  6]\n",
      " [43 60  8]\n",
      " [42 59  5]\n",
      " [43 60  5]\n",
      " [46 60  6]\n",
      " [47 61  7]\n",
      " [48 62  8]\n",
      " [46 61  7]\n",
      " [46 61  7]\n",
      " [46 60  7]\n",
      " [45 59 11]\n",
      " [44 57 11]\n",
      " [43 56 12]\n",
      " [41 54 11]\n",
      " [39 52  9]\n",
      " [41 53 13]\n",
      " [40 52 14]\n",
      " [39 51 15]\n",
      " [42 53 19]\n",
      " [46 57 24]\n",
      " [49 58 29]\n",
      " [49 58 29]\n",
      " [52 61 32]\n",
      " [54 63 34]\n",
      " [56 65 36]\n",
      " [53 62 33]\n",
      " [58 64 38]\n",
      " [58 64 38]\n",
      " [58 64 36]\n",
      " [55 62 31]\n",
      " [54 61 29]\n",
      " [52 59 28]\n",
      " [53 60 27]\n",
      " [52 59 25]\n",
      " [55 63 22]\n",
      " [54 62 20]\n",
      " [52 63 20]\n",
      " [50 61 18]\n",
      " [48 60 14]\n",
      " [47 59 11]\n",
      " [46 58  8]\n",
      " [45 57  7]\n",
      " [45 59  8]\n",
      " [46 60  7]\n",
      " [49 64  9]\n",
      " [50 65 10]\n",
      " [51 66  9]\n",
      " [50 67 13]\n",
      " [51 68 16]\n",
      " [52 68 19]\n",
      " [47 62 19]\n",
      " [45 60 18]\n",
      " [42 57 16]\n",
      " [40 55 14]\n",
      " [37 51 15]\n",
      " [36 50 17]\n",
      " [32 45 16]\n",
      " [29 42 14]\n",
      " [25 38  8]\n",
      " [21 34  6]\n",
      " [17 30  4]\n",
      " [16 29  3]\n",
      " [15 27  3]\n",
      " [15 27  3]\n",
      " [14 26  2]\n",
      " [13 25  1]\n",
      " [13 25  1]\n",
      " [13 25  1]\n",
      " [13 26  0]\n",
      " [12 25  0]\n",
      " [11 23  0]\n",
      " [11 23  1]\n",
      " [10 22  2]\n",
      " [ 9 21  1]\n",
      " [ 7 20  0]\n",
      " [ 6 19  1]\n",
      " [ 6 19  2]\n",
      " [ 5 18  1]\n",
      " [ 4 16  2]\n",
      " [ 5 17  3]\n",
      " [ 3 15  1]\n",
      " [ 4 16  2]\n",
      " [ 2 14  0]\n",
      " [ 1 13  0]\n",
      " [ 2 14  2]\n",
      " [ 2 14  2]\n",
      " [ 2 14  2]\n",
      " [ 2 14  2]\n",
      " [ 2 14  2]\n",
      " [ 2 14  2]\n",
      " [ 2 14  2]\n",
      " [ 1 13  1]\n",
      " [ 1 13  1]\n",
      " [ 1 13  1]\n",
      " [ 1 13  1]\n",
      " [ 1 12  5]\n",
      " [ 1 12  4]\n",
      " [ 1 13  3]\n",
      " [ 0 12  0]\n",
      " [ 1 13  1]\n",
      " [ 2 14  4]\n",
      " [ 2 14  4]\n",
      " [ 4 16  2]\n",
      " [ 4 17  0]\n",
      " [ 5 18  0]\n",
      " [ 9 22  1]\n",
      " [10 25  4]\n",
      " [16 30  7]\n",
      " [21 34  8]\n",
      " [23 36  7]\n",
      " [28 39  8]\n",
      " [31 38  7]\n",
      " [33 40  9]\n",
      " [37 44 13]\n",
      " [38 45 14]\n",
      " [37 44 13]\n",
      " [40 47 16]\n",
      " [41 48 17]\n",
      " [42 49 18]\n",
      " [42 49 18]\n",
      " [39 46 15]\n",
      " [40 47 16]\n",
      " [37 47 13]\n",
      " [35 47 11]\n",
      " [32 47  8]\n",
      " [31 46  7]\n",
      " [32 49  7]\n",
      " [37 49  9]\n",
      " [37 50  7]\n",
      " [40 53 10]\n",
      " [41 54 10]\n",
      " [40 53  7]\n",
      " [38 54  5]\n",
      " [39 56  4]\n",
      " [39 58  3]\n",
      " [40 61  4]\n",
      " [39 63  3]\n",
      " [40 64  2]\n",
      " [43 68  3]\n",
      " [44 69  4]\n",
      " [44 69  4]\n",
      " [43 68  3]\n",
      " [42 67  2]\n",
      " [39 64  7]\n",
      " [37 62  7]\n",
      " [31 56  1]\n",
      " [32 56  4]\n",
      " [31 55  5]\n",
      " [28 55  2]\n",
      " [27 56  0]\n",
      " [24 51  0]\n",
      " [25 48  2]\n",
      " [26 47  6]\n",
      " [23 44  3]\n",
      " [22 43  0]\n",
      " [21 42  1]\n",
      " [19 40  1]\n",
      " [18 39  0]\n",
      " [17 37  0]\n",
      " [18 35  1]\n",
      " [20 37  2]\n",
      " [17 34  0]\n",
      " [19 37  0]\n",
      " [22 40  1]\n",
      " [20 38  0]\n",
      " [21 39  1]\n",
      " [22 40  2]\n",
      " [20 38  0]\n",
      " [20 38  0]\n",
      " [23 41  3]\n",
      " [20 40  3]\n",
      " [21 38  4]\n",
      " [21 36  5]\n",
      " [20 35  4]\n",
      " [20 33  5]\n",
      " [17 30  3]\n",
      " [14 27  1]\n",
      " [11 23  0]\n",
      " [11 23  1]\n",
      " [10 22  0]\n",
      " [10 22  2]\n",
      " [10 22  2]\n",
      " [ 9 21  1]\n",
      " [ 9 21  1]\n",
      " [ 8 20  0]\n",
      " [ 8 20  0]\n",
      " [ 8 20  0]\n",
      " [ 9 21  0]\n",
      " [10 22  0]\n",
      " [11 23  1]\n",
      " [12 24  2]\n",
      " [12 24  2]\n",
      " [12 24  2]\n",
      " [14 26  4]\n",
      " [15 27  5]\n",
      " [15 27  5]\n",
      " [14 26  2]\n",
      " [14 26  2]\n",
      " [14 26  2]\n",
      " [16 28  4]\n",
      " [16 28  4]\n",
      " [16 28  4]\n",
      " [15 29  4]\n",
      " [15 29  4]\n",
      " [17 31  6]\n",
      " [14 28  3]\n",
      " [14 28  3]]\n"
     ]
    }
   ],
   "source": [
    "# Create a dataset from the images in the folder (with 400 images per dataset)\n",
    "data = tf.keras.utils.image_dataset_from_directory('photos', batch_size= 400)\n",
    "\n",
    "# Create an iterator to iterate over the batches of the dataset (only one batch in our case)\n",
    "data_iterator = data.as_numpy_iterator()\n",
    "\n",
    "# Get the first batch (the only one in our case)\n",
    "images, labels = data_iterator.next()\n",
    "\n",
    "# First row of pixels of the first image in RGB to show how the data looks like\n",
    "print(images[0].astype(int)[0])"
   ],
   "metadata": {
    "collapsed": false,
    "ExecuteTime": {
     "end_time": "2024-01-09T20:39:05.422719Z",
     "start_time": "2024-01-09T20:39:04.333196Z"
    }
   },
   "id": "3c5775b28d29e1ad",
   "execution_count": 68
  },
  {
   "cell_type": "markdown",
   "source": [
    "# Inspect the shape of the images"
   ],
   "metadata": {
    "collapsed": false
   },
   "id": "5f74c98d9a263e2a"
  },
  {
   "cell_type": "code",
   "outputs": [
    {
     "name": "stdout",
     "output_type": "stream",
     "text": [
      "Number of images: 400\n",
      "Number of classes: 2\n"
     ]
    }
   ],
   "source": [
    "num_images = len(images)\n",
    "num_classes = len(np.unique(labels))\n",
    "print(f\"Number of images: {num_images}\")\n",
    "print(f\"Number of classes: {num_classes}\")"
   ],
   "metadata": {
    "collapsed": false,
    "ExecuteTime": {
     "end_time": "2024-01-09T20:39:08.267001Z",
     "start_time": "2024-01-09T20:39:08.260297Z"
    }
   },
   "id": "eba3ac2661631aed",
   "execution_count": 69
  },
  {
   "cell_type": "markdown",
   "source": [
    "## Scale the images\n",
    "\n",
    "This can be done here with /255, as the value range of RGB is only between 0 and 255."
   ],
   "metadata": {
    "collapsed": false
   },
   "id": "f7207de87345f96d"
  },
  {
   "cell_type": "code",
   "outputs": [
    {
     "name": "stdout",
     "output_type": "stream",
     "text": [
      "[[0.12794118 0.16715686 0.07303922]\n",
      " [0.13186274 0.17107843 0.07696079]\n",
      " [0.13578431 0.175      0.08088236]\n",
      " [0.13725491 0.1764706  0.08235294]\n",
      " [0.13725491 0.1764706  0.08235294]\n",
      " [0.14509805 0.1764706  0.08627451]\n",
      " [0.14509805 0.1764706  0.08627451]\n",
      " [0.14509805 0.1764706  0.08627451]\n",
      " [0.15196079 0.18333334 0.09313726]\n",
      " [0.17107843 0.20245098 0.1122549 ]\n",
      " [0.16568628 0.19705883 0.10686275]\n",
      " [0.16862746 0.2        0.11764706]\n",
      " [0.16470589 0.19607843 0.11372549]\n",
      " [0.14901961 0.18039216 0.09803922]\n",
      " [0.14901961 0.18039216 0.09803922]\n",
      " [0.14509805 0.1764706  0.09411765]\n",
      " [0.14509805 0.1764706  0.08627451]\n",
      " [0.1504902  0.18186274 0.09166667]\n",
      " [0.16470589 0.19607843 0.10588235]\n",
      " [0.15686275 0.1882353  0.09803922]\n",
      " [0.15441176 0.18578431 0.09558824]\n",
      " [0.15833333 0.18970588 0.10735294]\n",
      " [0.1504902  0.18186274 0.09950981]\n",
      " [0.14264706 0.1740196  0.09166667]\n",
      " [0.1254902  0.15686275 0.07450981]\n",
      " [0.10980392 0.14117648 0.05882353]\n",
      " [0.09803922 0.12941177 0.04705882]\n",
      " [0.0877451  0.12696078 0.03284314]\n",
      " [0.08235294 0.11764706 0.03529412]\n",
      " [0.09019608 0.1254902  0.05098039]\n",
      " [0.07450981 0.10980392 0.03529412]\n",
      " [0.07058824 0.10588235 0.03921569]\n",
      " [0.05637255 0.09950981 0.03284314]\n",
      " [0.0495098  0.09264706 0.02598039]\n",
      " [0.05245098 0.09558824 0.02892157]\n",
      " [0.05098039 0.09411765 0.02745098]\n",
      " [0.05098039 0.09411765 0.02745098]\n",
      " [0.04705882 0.09411765 0.01568628]\n",
      " [0.05098039 0.09803922 0.01176471]\n",
      " [0.05490196 0.10196079 0.00784314]\n",
      " [0.0627451  0.11372549 0.01176471]\n",
      " [0.07058824 0.12156863 0.01176471]\n",
      " [0.08627451 0.13725491 0.01960784]\n",
      " [0.09019608 0.15294118 0.        ]\n",
      " [0.10343137 0.17009804 0.00539216]\n",
      " [0.11617647 0.18284313 0.00637255]\n",
      " [0.13186274 0.20245098 0.01421569]\n",
      " [0.14117648 0.21176471 0.01078431]\n",
      " [0.15294118 0.21568628 0.02352941]\n",
      " [0.16078432 0.22598039 0.02647059]\n",
      " [0.16862746 0.23529412 0.03137255]\n",
      " [0.16470589 0.23137255 0.01960784]\n",
      " [0.16862746 0.23529412 0.02107843]\n",
      " [0.18039216 0.23774509 0.025     ]\n",
      " [0.18431373 0.24166666 0.02892157]\n",
      " [0.1882353  0.24558823 0.03284314]\n",
      " [0.18284313 0.24019608 0.02745098]\n",
      " [0.18284313 0.24019608 0.02745098]\n",
      " [0.18284313 0.23774509 0.02990196]\n",
      " [0.17892157 0.23235294 0.04460784]\n",
      " [0.17254902 0.22352941 0.04313726]\n",
      " [0.17009804 0.22107843 0.04852941]\n",
      " [0.16323529 0.21421568 0.04313726]\n",
      " [0.15441176 0.20539215 0.03676471]\n",
      " [0.16078432 0.20784314 0.05392157]\n",
      " [0.15931372 0.20637254 0.05735294]\n",
      " [0.15294118 0.2        0.05882353]\n",
      " [0.16617647 0.20931372 0.0759804 ]\n",
      " [0.18186274 0.225      0.09460784]\n",
      " [0.19215687 0.22745098 0.11372549]\n",
      " [0.19215687 0.22745098 0.11372549]\n",
      " [0.20637254 0.24166666 0.12794118]\n",
      " [0.21470588 0.25       0.13627452]\n",
      " [0.22058824 0.25588235 0.14215687]\n",
      " [0.21029411 0.24558823 0.13186274]\n",
      " [0.22745098 0.2509804  0.14901961]\n",
      " [0.22745098 0.2509804  0.14901961]\n",
      " [0.23088235 0.25441176 0.14460784]\n",
      " [0.21666667 0.24411765 0.12254902]\n",
      " [0.21421568 0.24166666 0.11519608]\n",
      " [0.20735294 0.23480392 0.11323529]\n",
      " [0.20882353 0.23627451 0.10686275]\n",
      " [0.20637254 0.23382352 0.1004902 ]\n",
      " [0.21568628 0.24705882 0.08627451]\n",
      " [0.21176471 0.24558823 0.07990196]\n",
      " [0.20392157 0.24705882 0.07843138]\n",
      " [0.19754902 0.24068627 0.07205883]\n",
      " [0.18970588 0.2367647  0.05637255]\n",
      " [0.18431373 0.23137255 0.04313726]\n",
      " [0.18284313 0.22990195 0.03382353]\n",
      " [0.1764706  0.22352941 0.02745098]\n",
      " [0.17794117 0.23284313 0.03284314]\n",
      " [0.18186274 0.2367647  0.02892157]\n",
      " [0.19215687 0.2509804  0.03529412]\n",
      " [0.19607843 0.25490198 0.03921569]\n",
      " [0.2        0.25882354 0.03529412]\n",
      " [0.19754902 0.26421568 0.05245098]\n",
      " [0.2        0.26666668 0.0627451 ]\n",
      " [0.20392157 0.26666668 0.07450981]\n",
      " [0.1872549  0.24607843 0.07745098]\n",
      " [0.17794117 0.2367647  0.07303922]\n",
      " [0.16470589 0.22352941 0.0627451 ]\n",
      " [0.15686275 0.21568628 0.05490196]\n",
      " [0.14509805 0.2        0.05882353]\n",
      " [0.14362745 0.1985294  0.06911765]\n",
      " [0.1254902  0.1764706  0.06372549]\n",
      " [0.11372549 0.16470589 0.05490196]\n",
      " [0.1004902  0.15147059 0.03382353]\n",
      " [0.08480392 0.13578431 0.02598039]\n",
      " [0.06666667 0.11764706 0.01568628]\n",
      " [0.06519608 0.11617647 0.01421569]\n",
      " [0.06127451 0.10833333 0.01421569]\n",
      " [0.05882353 0.10588235 0.01176471]\n",
      " [0.05490196 0.10196079 0.00784314]\n",
      " [0.05098039 0.09803922 0.00392157]\n",
      " [0.05392157 0.10098039 0.00686275]\n",
      " [0.05098039 0.09803922 0.00392157]\n",
      " [0.05098039 0.10196079 0.        ]\n",
      " [0.04705882 0.09803922 0.        ]\n",
      " [0.04313726 0.09019608 0.        ]\n",
      " [0.04313726 0.09019608 0.00392157]\n",
      " [0.03921569 0.08627451 0.00784314]\n",
      " [0.03529412 0.08235294 0.00392157]\n",
      " [0.02745098 0.07843138 0.        ]\n",
      " [0.02352941 0.07450981 0.00392157]\n",
      " [0.02352941 0.07450981 0.00784314]\n",
      " [0.02205882 0.07303922 0.00637255]\n",
      " [0.01813726 0.06519608 0.01029412]\n",
      " [0.02205882 0.06911765 0.01421569]\n",
      " [0.01176471 0.05882353 0.00392157]\n",
      " [0.01568628 0.0627451  0.00784314]\n",
      " [0.00784314 0.05490196 0.        ]\n",
      " [0.00392157 0.05098039 0.        ]\n",
      " [0.00784314 0.05490196 0.00784314]\n",
      " [0.00784314 0.05490196 0.00784314]\n",
      " [0.00784314 0.05490196 0.00784314]\n",
      " [0.00784314 0.05490196 0.00784314]\n",
      " [0.00784314 0.05490196 0.00784314]\n",
      " [0.00784314 0.05490196 0.00784314]\n",
      " [0.00784314 0.05490196 0.00784314]\n",
      " [0.00392157 0.05098039 0.00392157]\n",
      " [0.00392157 0.05098039 0.00392157]\n",
      " [0.00392157 0.05098039 0.00392157]\n",
      " [0.00392157 0.05098039 0.00392157]\n",
      " [0.00392157 0.04705882 0.02058824]\n",
      " [0.00392157 0.04705882 0.01568628]\n",
      " [0.00392157 0.05098039 0.01176471]\n",
      " [0.         0.04705882 0.        ]\n",
      " [0.00539216 0.05245098 0.00539216]\n",
      " [0.00784314 0.05490196 0.01568628]\n",
      " [0.00931373 0.05637255 0.01715686]\n",
      " [0.01568628 0.0627451  0.00784314]\n",
      " [0.01715686 0.06813726 0.00147059]\n",
      " [0.02107843 0.07205883 0.        ]\n",
      " [0.03529412 0.0877451  0.00490196]\n",
      " [0.04068628 0.09950981 0.01715686]\n",
      " [0.0627451  0.11764706 0.02745098]\n",
      " [0.08235294 0.13333334 0.03137255]\n",
      " [0.09019608 0.14117648 0.02843137]\n",
      " [0.11127451 0.15441176 0.03382353]\n",
      " [0.1245098  0.15196079 0.03039216]\n",
      " [0.13235295 0.15980393 0.0382353 ]\n",
      " [0.14803922 0.1754902  0.05392157]\n",
      " [0.15196079 0.17941177 0.05784314]\n",
      " [0.14656863 0.1740196  0.05245098]\n",
      " [0.15882353 0.18627451 0.06470589]\n",
      " [0.16127451 0.18872549 0.06715687]\n",
      " [0.16764706 0.19509804 0.07352941]\n",
      " [0.16617647 0.19362745 0.07205883]\n",
      " [0.15588236 0.18333334 0.06176471]\n",
      " [0.15980393 0.1872549  0.06568628]\n",
      " [0.14803922 0.1872549  0.05392157]\n",
      " [0.13872549 0.18578431 0.04460784]\n",
      " [0.12794118 0.1867647  0.03382353]\n",
      " [0.12401961 0.18284313 0.02990196]\n",
      " [0.12794118 0.19460784 0.02990196]\n",
      " [0.14656863 0.19362745 0.03676471]\n",
      " [0.14754902 0.1985294  0.02990196]\n",
      " [0.15784314 0.20882353 0.04019608]\n",
      " [0.16323529 0.21421568 0.04166667]\n",
      " [0.15686275 0.20784314 0.02745098]\n",
      " [0.14901961 0.21176471 0.01960784]\n",
      " [0.15294118 0.21960784 0.01568628]\n",
      " [0.15294118 0.22745098 0.01176471]\n",
      " [0.15686275 0.23921569 0.01568628]\n",
      " [0.15294118 0.24705882 0.01176471]\n",
      " [0.15686275 0.2509804  0.00784314]\n",
      " [0.17009804 0.26813725 0.01323529]\n",
      " [0.1740196  0.2720588  0.01715686]\n",
      " [0.1740196  0.2720588  0.01715686]\n",
      " [0.17156863 0.26960784 0.01470588]\n",
      " [0.16764706 0.26568627 0.01078431]\n",
      " [0.15441176 0.25245097 0.02892157]\n",
      " [0.14656863 0.24460784 0.02892157]\n",
      " [0.12205882 0.22009803 0.00441176]\n",
      " [0.1254902  0.21960784 0.01568628]\n",
      " [0.12156863 0.21568628 0.01960784]\n",
      " [0.10980392 0.21568628 0.00784314]\n",
      " [0.10588235 0.21960784 0.00294118]\n",
      " [0.09411765 0.2        0.        ]\n",
      " [0.09803922 0.1882353  0.00784314]\n",
      " [0.10294118 0.18529412 0.0245098 ]\n",
      " [0.09166667 0.1740196  0.01323529]\n",
      " [0.08627451 0.16862746 0.00294118]\n",
      " [0.08235294 0.16470589 0.00392157]\n",
      " [0.0754902  0.15784314 0.00490196]\n",
      " [0.07205883 0.15294118 0.00294118]\n",
      " [0.06764706 0.14607844 0.00245098]\n",
      " [0.07058824 0.13725491 0.00392157]\n",
      " [0.07941177 0.14607844 0.00784314]\n",
      " [0.06911765 0.13578431 0.        ]\n",
      " [0.07647059 0.14705883 0.00245098]\n",
      " [0.08921569 0.15980393 0.00588235]\n",
      " [0.07843138 0.14901961 0.        ]\n",
      " [0.08235294 0.15294118 0.00392157]\n",
      " [0.08627451 0.15686275 0.00784314]\n",
      " [0.07990196 0.1504902  0.00147059]\n",
      " [0.07990196 0.1504902  0.00147059]\n",
      " [0.09019608 0.16078432 0.01176471]\n",
      " [0.07843138 0.15686275 0.01176471]\n",
      " [0.08235294 0.14901961 0.01568628]\n",
      " [0.08235294 0.14117648 0.01960784]\n",
      " [0.07843138 0.13725491 0.01568628]\n",
      " [0.07843138 0.12941177 0.01960784]\n",
      " [0.06666667 0.11764706 0.0127451 ]\n",
      " [0.05490196 0.10588235 0.00392157]\n",
      " [0.04460784 0.09166667 0.        ]\n",
      " [0.04460784 0.09166667 0.00539216]\n",
      " [0.03921569 0.08627451 0.        ]\n",
      " [0.04166667 0.08872549 0.01029412]\n",
      " [0.03921569 0.08627451 0.00784314]\n",
      " [0.03529412 0.08235294 0.00392157]\n",
      " [0.03676471 0.08382353 0.00539216]\n",
      " [0.03284314 0.07990196 0.00147059]\n",
      " [0.03137255 0.07843138 0.        ]\n",
      " [0.03137255 0.07843138 0.        ]\n",
      " [0.03676471 0.08382353 0.        ]\n",
      " [0.04166667 0.08872549 0.00245098]\n",
      " [0.04313726 0.09019608 0.00392157]\n",
      " [0.04852941 0.09558824 0.00931373]\n",
      " [0.04705882 0.09411765 0.00784314]\n",
      " [0.04705882 0.09411765 0.00784314]\n",
      " [0.05637255 0.10343137 0.01715686]\n",
      " [0.05882353 0.10588235 0.01960784]\n",
      " [0.05882353 0.10588235 0.01960784]\n",
      " [0.05490196 0.10196079 0.00784314]\n",
      " [0.05490196 0.10196079 0.00784314]\n",
      " [0.05490196 0.10196079 0.00784314]\n",
      " [0.0627451  0.10980392 0.01568628]\n",
      " [0.0627451  0.10980392 0.01568628]\n",
      " [0.0627451  0.10980392 0.01568628]\n",
      " [0.05882353 0.11372549 0.01568628]\n",
      " [0.05882353 0.11372549 0.01568628]\n",
      " [0.06666667 0.12156863 0.02352941]\n",
      " [0.05490196 0.10980392 0.01176471]\n",
      " [0.05490196 0.10980392 0.01176471]]\n"
     ]
    }
   ],
   "source": [
    "images = images / 255.0 # divide by float forces the result to be a float\n",
    "\n",
    "# Inspect scaled first row of pixels of the first image in RGB\n",
    "print(images[0][0])"
   ],
   "metadata": {
    "collapsed": false,
    "ExecuteTime": {
     "end_time": "2024-01-09T20:39:10.919144Z",
     "start_time": "2024-01-09T20:39:10.681773Z"
    }
   },
   "id": "aaf79a2013bd77da",
   "execution_count": 70
  },
  {
   "cell_type": "markdown",
   "source": [
    "# Split the data into train and test data"
   ],
   "metadata": {
    "collapsed": false
   },
   "id": "b56faac4597f778e"
  },
  {
   "cell_type": "code",
   "outputs": [],
   "source": [
    "X_train, X_test, y_train, y_test = train_test_split(images, labels, test_size=0.2, random_state=42)"
   ],
   "metadata": {
    "collapsed": false,
    "ExecuteTime": {
     "end_time": "2024-01-09T20:39:13.096935Z",
     "start_time": "2024-01-09T20:39:12.837333Z"
    }
   },
   "id": "b7a16aa0fe3589b3",
   "execution_count": 71
  },
  {
   "cell_type": "markdown",
   "source": [
    "# Create the model"
   ],
   "metadata": {
    "collapsed": false
   },
   "id": "71f9cc0962bdb078"
  },
  {
   "cell_type": "code",
   "execution_count": 72,
   "outputs": [],
   "source": [
    "# sequential means that the layers are stacked on top of each other leading to a feed forward neural network\n",
    "model = tf.keras.models.Sequential([\n",
    "    # Adding a convolutional layer to detect features in the images\n",
    "    \n",
    "    # 16 filters to detect 16 different features like edges, textures, structure etc.\n",
    "    # 3x3 kernel size to detect features in a 3x3 area\n",
    "    # 1 stride to move the kernel by 1 pixel\n",
    "    # relu activation function to introduce non-linearity\n",
    "    # input shape: height, width, colors/channels (RGB)\n",
    "    tf.keras.layers.Conv2D(16, (3, 3), 1, activation='relu', input_shape=(256, 256, 3)), # output shape: 254x254x16 (width, height, features)\n",
    "\n",
    "    # Adding a batch normalization layer to improve training stability and convergence speed\n",
    "    tf.keras.layers.BatchNormalization(), # output shape: 254x254x16\n",
    "    \n",
    "    # Adding a max pooling layer to reduce the dimensionality of the data\n",
    "    # achieved by taking the maximum value of a 2x2 area as the representative value for that area\n",
    "    tf.keras.layers.MaxPool2D(), # output shape: 127x127x16\n",
    "    \n",
    "    # Adding more layers to continously learn more complex features\n",
    "    # Continouse learning of more complex features is achieved by increasing the number of filters\n",
    "    # A more compact representation of the data is achieved by reducing the kernel size continuously via max pooling\n",
    "    tf.keras.layers.Conv2D(32, (3, 3), 1, activation='relu'), # output shape: 125x125x32\n",
    "    tf.keras.layers.BatchNormalization(), # output shape: 125x125x32\n",
    "    tf.keras.layers.MaxPool2D(), # output shape: 62x62x32\n",
    "    tf.keras.layers.Conv2D(64, (3, 3), 1, activation='relu'), # output shape: 60x60x64\n",
    "    tf.keras.layers.BatchNormalization(), # output shape: 60x60x64\n",
    "    tf.keras.layers.MaxPooling2D(), # output shape: 30x30x64 (width, height, features)\n",
    "    \n",
    "    # Adding a flatten layer to transform the 2D data into a 1D vector\n",
    "    tf.keras.layers.Flatten(), # output shape: 57600\n",
    "    \n",
    "    # Adding a dense layer to learn the classification\n",
    "    tf.keras.layers.Dense(256, activation='relu'),\n",
    "    \n",
    "    # Adding the output layer to classify the images - either as a Kaninchen or as a Feldhase\n",
    "    tf.keras.layers.Dense(1, activation='sigmoid')\n",
    "])"
   ],
   "metadata": {
    "collapsed": false,
    "ExecuteTime": {
     "end_time": "2024-01-09T20:39:13.905355Z",
     "start_time": "2024-01-09T20:39:13.772875Z"
    }
   },
   "id": "ac8960157002f51d"
  },
  {
   "cell_type": "markdown",
   "source": [
    "# Configuring the neural network model"
   ],
   "metadata": {
    "collapsed": false
   },
   "id": "6fe83a9ecd40dd4b"
  },
  {
   "cell_type": "code",
   "execution_count": 73,
   "outputs": [],
   "source": [
    "# 'compile' configures the selected neural network model\n",
    "# 'adam' adapts the learning rate of each parameter individually, aiming to minimize the loss function (binary crossentropy in our case)\n",
    "# the metrics are used to measure the performance of our model\n",
    "model.compile('adam', loss=tf.losses.BinaryCrossentropy(), metrics=['accuracy'])"
   ],
   "metadata": {
    "collapsed": false,
    "ExecuteTime": {
     "end_time": "2024-01-09T20:39:15.136937Z",
     "start_time": "2024-01-09T20:39:15.130586Z"
    }
   },
   "id": "5735edff61b2a4e9"
  },
  {
   "cell_type": "markdown",
   "source": [
    "# Train the model"
   ],
   "metadata": {
    "collapsed": false
   },
   "id": "9aa22a7757a8421b"
  },
  {
   "cell_type": "code",
   "execution_count": 74,
   "outputs": [
    {
     "name": "stdout",
     "output_type": "stream",
     "text": [
      "Epoch 1/20\n",
      "10/10 [==============================] - 6s 474ms/step - loss: 11.1883 - accuracy: 0.6594 - val_loss: 1.6685 - val_accuracy: 0.5375\n",
      "Epoch 2/20\n",
      "10/10 [==============================] - 5s 482ms/step - loss: 1.8741 - accuracy: 0.8281 - val_loss: 4.0758 - val_accuracy: 0.5250\n",
      "Epoch 3/20\n",
      "10/10 [==============================] - 5s 465ms/step - loss: 0.4714 - accuracy: 0.9125 - val_loss: 3.6998 - val_accuracy: 0.5250\n",
      "Epoch 4/20\n",
      "10/10 [==============================] - 5s 489ms/step - loss: 0.3505 - accuracy: 0.9531 - val_loss: 3.7985 - val_accuracy: 0.6000\n",
      "Epoch 5/20\n",
      "10/10 [==============================] - 5s 478ms/step - loss: 0.2680 - accuracy: 0.9656 - val_loss: 4.4608 - val_accuracy: 0.6250\n",
      "Epoch 6/20\n",
      "10/10 [==============================] - 5s 508ms/step - loss: 0.0321 - accuracy: 0.9844 - val_loss: 4.7083 - val_accuracy: 0.6125\n",
      "Epoch 7/20\n",
      "10/10 [==============================] - 5s 500ms/step - loss: 0.0898 - accuracy: 0.9875 - val_loss: 4.7414 - val_accuracy: 0.6375\n",
      "Epoch 8/20\n",
      "10/10 [==============================] - 5s 511ms/step - loss: 0.0487 - accuracy: 0.9937 - val_loss: 3.6206 - val_accuracy: 0.6500\n",
      "Epoch 9/20\n",
      "10/10 [==============================] - 5s 518ms/step - loss: 0.0143 - accuracy: 0.9969 - val_loss: 3.2913 - val_accuracy: 0.6750\n",
      "Epoch 10/20\n",
      "10/10 [==============================] - 5s 534ms/step - loss: 0.0106 - accuracy: 0.9969 - val_loss: 3.5915 - val_accuracy: 0.7250\n",
      "Epoch 11/20\n",
      "10/10 [==============================] - 5s 494ms/step - loss: 0.0040 - accuracy: 1.0000 - val_loss: 3.2442 - val_accuracy: 0.7125\n",
      "Epoch 12/20\n",
      "10/10 [==============================] - 5s 521ms/step - loss: 0.0469 - accuracy: 0.9969 - val_loss: 4.6969 - val_accuracy: 0.6625\n",
      "Epoch 13/20\n",
      "10/10 [==============================] - 5s 502ms/step - loss: 0.0311 - accuracy: 0.9937 - val_loss: 6.4894 - val_accuracy: 0.6000\n"
     ]
    }
   ],
   "source": [
    "# Implementing early stopping to prevent overfitting\n",
    "# 'patience' is the number of epochs with no improvement after which training will be stopped\n",
    "# 'restore_best_weights' restores the weights from the epoch with the best value of the monitored quantity\n",
    "early_stopping = tf.keras.callbacks.EarlyStopping(monitor='val_accuracy', patience=3, restore_best_weights=True)\n",
    "\n",
    "# 'fit' trains the model\n",
    "# 'epochs' is the number of times the model is trained on the whole dataset\n",
    "hist = model.fit(X_train, y_train, validation_data=(X_test, y_test), epochs=20, callbacks=[early_stopping])"
   ],
   "metadata": {
    "collapsed": false,
    "ExecuteTime": {
     "end_time": "2024-01-09T20:40:21.822580Z",
     "start_time": "2024-01-09T20:39:16.144893Z"
    }
   },
   "id": "c23bfe63e3a4aa42"
  },
  {
   "cell_type": "markdown",
   "source": [
    "# Plot the training and the validation accuracy, as well as the loss"
   ],
   "metadata": {
    "collapsed": false
   },
   "id": "e5c569326fdb0a4e"
  },
  {
   "cell_type": "code",
   "execution_count": 75,
   "outputs": [
    {
     "data": {
      "text/plain": "<Figure size 640x480 with 1 Axes>",
      "image/png": "[encoded data removed]"
     },
     "metadata": {},
     "output_type": "display_data"
    },
    {
     "data": {
      "text/plain": "<Figure size 640x480 with 1 Axes>",
      "image/png": "[encoded data removed]"
     },
     "metadata": {},
     "output_type": "display_data"
    }
   ],
   "source": [
    "import matplotlib.pyplot as plt\n",
    "\n",
    "# Plot the training and the validation accuracy\n",
    "plt.plot(hist.history['accuracy'])\n",
    "plt.plot(hist.history['val_accuracy'])\n",
    "plt.title('Model accuracy')\n",
    "plt.ylabel('Accuracy')\n",
    "plt.xlabel('Epoch')\n",
    "plt.legend(['Training accuracy', 'Validation accuracy'], loc='lower right') # loc='lower right' to place the legend in the lower right corner\n",
    "plt.show()\n",
    "\n",
    "# Plot the training and the validation loss\n",
    "plt.plot(hist.history['loss'])\n",
    "plt.plot(hist.history['val_loss'])\n",
    "plt.title('Model loss')\n",
    "plt.ylabel('Loss')\n",
    "plt.xlabel('Epoch')\n",
    "plt.legend(['Training loss', 'Validation loss'], loc='upper right') # loc='upper right' to place the legend in the upper right corner\n",
    "plt.show()"
   ],
   "metadata": {
    "collapsed": false,
    "ExecuteTime": {
     "end_time": "2024-01-09T20:40:29.056877Z",
     "start_time": "2024-01-09T20:40:28.897254Z"
    }
   },
   "id": "e4938f86e937cf82"
  },
  {
   "cell_type": "code",
   "execution_count": 76,
   "outputs": [
    {
     "name": "stdout",
     "output_type": "stream",
     "text": [
      "3/3 - 0s - loss: 3.5915 - accuracy: 0.7250 - 426ms/epoch - 142ms/step\n",
      "Test accuracy: 0.7250000238418579\n"
     ]
    }
   ],
   "source": [
    "# Evaluate the model based on the test data\n",
    "test_loss, test_acc = model.evaluate(X_test, y_test, verbose=2) # verbose=2 to suppress the progress bar\n",
    "print(f'Test accuracy: {test_acc}')"
   ],
   "metadata": {
    "collapsed": false,
    "ExecuteTime": {
     "end_time": "2024-01-09T20:40:42.138452Z",
     "start_time": "2024-01-09T20:40:41.654747Z"
    }
   },
   "id": "271587a53471d18c"
  },
  {
   "cell_type": "code",
   "execution_count": null,
   "outputs": [],
   "source": [],
   "metadata": {
    "collapsed": false
   },
   "id": "bc1c3296edc803f"
  }
 ],
 "metadata": {
  "kernelspec": {
   "display_name": "Python 3",
   "language": "python",
   "name": "python3"
  },
  "language_info": {
   "codemirror_mode": {
    "name": "ipython",
    "version": 2
   },
   "file_extension": ".py",
   "mimetype": "text/x-python",
   "name": "python",
   "nbconvert_exporter": "python",
   "pygments_lexer": "ipython2",
   "version": "2.7.6"
  }
 },
 "nbformat": 4,
 "nbformat_minor": 5
}
