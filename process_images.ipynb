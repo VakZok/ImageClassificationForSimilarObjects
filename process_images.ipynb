{
 "cells": [
  {
   "cell_type": "markdown",
   "source": [
    "# Image Processor\n",
    "The goal of this notebook is to create a model that can classify images of the following two classes:\n",
    "- Kaninchen\n",
    "- Feldhase\n",
    "\n",
    "The comments in this notebook are plenty and generated mostly using the help of artificial intelligence. This approach is chosen, as it enables both the developers and the users of this notebook to understand the code better."
   ],
   "metadata": {
    "collapsed": false
   },
   "id": "52335692d14e9776"
  },
  {
   "cell_type": "markdown",
   "source": [
    "# Imports"
   ],
   "metadata": {
    "collapsed": false
   },
   "id": "3693b8f986328b26"
  },
  {
   "cell_type": "code",
   "outputs": [],
   "source": [
    "import numpy as np\n",
    "import tensorflow as tf\n",
    "from sklearn.model_selection import train_test_split"
   ],
   "metadata": {
    "collapsed": false,
    "ExecuteTime": {
     "end_time": "2024-01-09T20:36:22.554208Z",
     "start_time": "2024-01-09T20:36:22.544470Z"
    }
   },
   "id": "f942088f6822c409",
   "execution_count": 52
  },
  {
   "cell_type": "markdown",
   "source": [
    "# Adjust the GPU memory growth dynamically"
   ],
   "metadata": {
    "collapsed": false
   },
   "id": "1386b3984ac34736"
  },
  {
   "cell_type": "code",
   "execution_count": 54,
   "outputs": [
    {
     "data": {
      "text/plain": "[]"
     },
     "execution_count": 54,
     "metadata": {},
     "output_type": "execute_result"
    }
   ],
   "source": [
    "gpus = tf.config.experimental.list_physical_devices('GPU') # Get the list of GPUs\n",
    "for gpu in gpus: \n",
    "    tf.config.experimental.set_memory_growth(gpu, True) # enable tensorflow to allocate memory dynamically -> use only as much GPU memory as needed\n",
    "gpus"
   ],
   "metadata": {
    "collapsed": false,
    "ExecuteTime": {
     "end_time": "2024-01-09T20:36:44.783478Z",
     "start_time": "2024-01-09T20:36:44.777599Z"
    }
   },
   "id": "150016df4048127"
  },
  {
   "cell_type": "code",
   "execution_count": 55,
   "outputs": [
    {
     "data": {
      "text/plain": "[]"
     },
     "execution_count": 55,
     "metadata": {},
     "output_type": "execute_result"
    }
   ],
   "source": [
    "tf.config.list_physical_devices('GPU') # Check if GPU is available"
   ],
   "metadata": {
    "collapsed": false,
    "ExecuteTime": {
     "end_time": "2024-01-09T20:36:45.450423Z",
     "start_time": "2024-01-09T20:36:45.445506Z"
    }
   },
   "id": "b7cdfe5e88fb1c3"
  },
  {
   "cell_type": "markdown",
   "source": [
    "# Load images and transform them into a numpy array"
   ],
   "metadata": {
    "collapsed": false
   },
   "id": "c19d96e6b9493e62"
  },
  {
   "cell_type": "code",
   "outputs": [
    {
     "name": "stdout",
     "output_type": "stream",
     "text": [
      "Found 400 files belonging to 2 classes.\n",
      "[[ 82 116  79]\n",
      " [ 83 115  80]\n",
      " [ 84 115  81]\n",
      " [ 87 116  85]\n",
      " [ 91 119  89]\n",
      " [ 95 121  92]\n",
      " [ 98 124  95]\n",
      " [ 98 124  95]\n",
      " [100 126  97]\n",
      " [103 129 100]\n",
      " [108 134 105]\n",
      " [110 136 108]\n",
      " [112 134 113]\n",
      " [110 134 112]\n",
      " [108 133 111]\n",
      " [110 135 113]\n",
      " [116 144 121]\n",
      " [115 144 120]\n",
      " [115 142 111]\n",
      " [120 147 116]\n",
      " [126 153 122]\n",
      " [131 158 127]\n",
      " [134 161 130]\n",
      " [135 162 131]\n",
      " [132 162 128]\n",
      " [129 159 125]\n",
      " [125 155 121]\n",
      " [128 158 124]\n",
      " [133 163 129]\n",
      " [132 162 128]\n",
      " [126 157 115]\n",
      " [121 152 109]\n",
      " [121 152 109]\n",
      " [121 152 109]\n",
      " [120 151 108]\n",
      " [118 149 106]\n",
      " [116 146 112]\n",
      " [109 139 107]\n",
      " [106 135 105]\n",
      " [101 129 104]\n",
      " [ 97 125 103]\n",
      " [ 93 120  99]\n",
      " [ 94 114 103]\n",
      " [ 86 104  97]\n",
      " [ 80  96  93]\n",
      " [ 76  90  90]\n",
      " [ 71  83  86]\n",
      " [ 71  82  88]\n",
      " [ 70  83  91]\n",
      " [ 66  79  87]\n",
      " [ 67  80  88]\n",
      " [ 67  80  88]\n",
      " [ 65  78  86]\n",
      " [ 64  77  85]\n",
      " [ 62  75  83]\n",
      " [ 63  76  84]\n",
      " [ 62  75  83]\n",
      " [ 63  76  84]\n",
      " [ 59  72  80]\n",
      " [ 57  70  78]\n",
      " [ 60  73  81]\n",
      " [ 60  73  81]\n",
      " [ 60  73  81]\n",
      " [ 58  71  79]\n",
      " [ 62  75  83]\n",
      " [ 59  72  80]\n",
      " [ 60  75  80]\n",
      " [ 61  78  81]\n",
      " [ 58  76  78]\n",
      " [ 58  78  77]\n",
      " [ 56  77  75]\n",
      " [ 56  78  75]\n",
      " [ 54  75  70]\n",
      " [ 54  77  70]\n",
      " [ 53  76  68]\n",
      " [ 45  71  60]\n",
      " [ 46  73  60]\n",
      " [ 41  69  55]\n",
      " [ 45  71  62]\n",
      " [ 50  77  63]\n",
      " [ 57  86  67]\n",
      " [ 62  95  67]\n",
      " [ 72 106  73]\n",
      " [ 76 112  73]\n",
      " [ 77 113  70]\n",
      " [ 84 120  73]\n",
      " [ 90 127  75]\n",
      " [ 92 130  74]\n",
      " [ 96 134  72]\n",
      " [ 96 135  70]\n",
      " [ 95 136  71]\n",
      " [ 95 135  72]\n",
      " [ 92 132  70]\n",
      " [ 89 129  67]\n",
      " [ 87 127  68]\n",
      " [ 90 130  72]\n",
      " [ 87 131  70]\n",
      " [ 88 132  70]\n",
      " [ 89 133  70]\n",
      " [ 88 133  69]\n",
      " [ 91 136  71]\n",
      " [ 94 139  72]\n",
      " [ 94 138  75]\n",
      " [ 96 141  76]\n",
      " [100 145  78]\n",
      " [103 149  77]\n",
      " [106 152  79]\n",
      " [107 153  78]\n",
      " [103 153  77]\n",
      " [103 154  75]\n",
      " [105 156  77]\n",
      " [107 159  77]\n",
      " [107 159  76]\n",
      " [111 163  80]\n",
      " [117 165  77]\n",
      " [116 166  75]\n",
      " [118 169  77]\n",
      " [116 170  76]\n",
      " [118 173  77]\n",
      " [119 175  78]\n",
      " [118 172  77]\n",
      " [118 172  77]\n",
      " [118 172  77]\n",
      " [119 173  78]\n",
      " [121 175  80]\n",
      " [123 177  82]\n",
      " [119 180  78]\n",
      " [122 181  81]\n",
      " [123 180  83]\n",
      " [128 184  87]\n",
      " [128 182  88]\n",
      " [129 182  89]\n",
      " [127 182  90]\n",
      " [129 184  92]\n",
      " [124 179  87]\n",
      " [124 179  87]\n",
      " [124 179  87]\n",
      " [123 178  86]\n",
      " [123 176  86]\n",
      " [123 176  86]\n",
      " [122 175  87]\n",
      " [121 173  88]\n",
      " [120 172  89]\n",
      " [120 172  89]\n",
      " [118 170  95]\n",
      " [119 169  96]\n",
      " [117 167  96]\n",
      " [118 164 100]\n",
      " [118 162 100]\n",
      " [122 166 104]\n",
      " [122 168  96]\n",
      " [124 170  97]\n",
      " [126 172  97]\n",
      " [128 174  99]\n",
      " [129 176  98]\n",
      " [132 178  99]\n",
      " [135 177  95]\n",
      " [134 176  90]\n",
      " [129 172  83]\n",
      " [127 170  81]\n",
      " [126 168  83]\n",
      " [122 163  82]\n",
      " [115 157  82]\n",
      " [115 157  82]\n",
      " [110 152  77]\n",
      " [112 154  79]\n",
      " [112 154  79]\n",
      " [112 154  78]\n",
      " [111 157  74]\n",
      " [110 158  72]\n",
      " [111 162  70]\n",
      " [110 163  65]\n",
      " [111 166  64]\n",
      " [115 171  67]\n",
      " [117 176  65]\n",
      " [118 178  66]\n",
      " [116 176  64]\n",
      " [114 173  62]\n",
      " [114 173  62]\n",
      " [112 172  62]\n",
      " [111 168  69]\n",
      " [113 169  74]\n",
      " [108 164  74]\n",
      " [108 162  79]\n",
      " [105 159  80]\n",
      " [103 156  81]\n",
      " [106 153  84]\n",
      " [107 154  86]\n",
      " [108 154  89]\n",
      " [106 152  87]\n",
      " [105 151  88]\n",
      " [104 150  89]\n",
      " [105 149  96]\n",
      " [106 150  99]\n",
      " [105 149  98]\n",
      " [104 148  99]\n",
      " [103 146 100]\n",
      " [104 147 101]\n",
      " [106 152 104]\n",
      " [104 150 103]\n",
      " [103 149 103]\n",
      " [104 150 104]\n",
      " [104 149 106]\n",
      " [100 145 103]\n",
      " [101 143 104]\n",
      " [102 144 106]\n",
      " [103 145 109]\n",
      " [102 144 109]\n",
      " [100 141 107]\n",
      " [ 97 138 105]\n",
      " [ 99 136 103]\n",
      " [ 99 136 104]\n",
      " [ 99 136 105]\n",
      " [ 99 135 107]\n",
      " [101 137 110]\n",
      " [ 99 137 109]\n",
      " [ 98 139 106]\n",
      " [102 142 108]\n",
      " [107 144 110]\n",
      " [112 147 114]\n",
      " [116 149 114]\n",
      " [116 149 112]\n",
      " [111 152 109]\n",
      " [111 152 108]\n",
      " [111 153 107]\n",
      " [111 153 107]\n",
      " [116 158 110]\n",
      " [116 158 109]\n",
      " [118 157 103]\n",
      " [119 159 104]\n",
      " [117 158 101]\n",
      " [110 154  94]\n",
      " [111 157  94]\n",
      " [111 157  95]\n",
      " [112 157  98]\n",
      " [107 153  90]\n",
      " [104 150  84]\n",
      " [104 151  78]\n",
      " [105 153  77]\n",
      " [108 157  77]\n",
      " [110 163  74]\n",
      " [113 166  76]\n",
      " [113 166  75]\n",
      " [114 167  74]\n",
      " [114 168  73]\n",
      " [116 170  75]\n",
      " [117 171  77]\n",
      " [115 166  76]\n",
      " [116 166  79]\n",
      " [118 166  82]\n",
      " [123 167  88]\n",
      " [123 167  91]\n",
      " [124 165  99]\n",
      " [123 163 100]\n",
      " [124 164 101]\n",
      " [123 163 101]]\n"
     ]
    }
   ],
   "source": [
    "# Create a dataset from the images in the folder (with 400 images per dataset)\n",
    "data = tf.keras.utils.image_dataset_from_directory('photos', batch_size=400, image_size=(256, 256), shuffle=True)\n",
    "\n",
    "# Create an iterator to iterate over the batches of the dataset (only one batch in our case)\n",
    "data_iterator = data.as_numpy_iterator()\n",
    "\n",
    "# Get the first batch (the only one in our case)\n",
    "images, labels = data_iterator.next()\n",
    "\n",
    "# First row of pixels of the first image in RGB to show how the data looks like\n",
    "print(images[0].astype(int)[0])"
   ],
   "metadata": {
    "collapsed": false,
    "ExecuteTime": {
     "end_time": "2024-01-09T20:46:50.401340Z",
     "start_time": "2024-01-09T20:46:49.506741Z"
    }
   },
   "id": "3c5775b28d29e1ad",
   "execution_count": 79
  },
  {
   "cell_type": "markdown",
   "source": [
    "# Inspect the shape of the images"
   ],
   "metadata": {
    "collapsed": false
   },
   "id": "5f74c98d9a263e2a"
  },
  {
   "cell_type": "code",
   "outputs": [
    {
     "name": "stdout",
     "output_type": "stream",
     "text": [
      "Number of images: 400\n",
      "Number of classes: 2\n"
     ]
    }
   ],
   "source": [
    "num_images = len(images)\n",
    "num_classes = len(np.unique(labels))\n",
    "print(f\"Number of images: {num_images}\")\n",
    "print(f\"Number of classes: {num_classes}\")"
   ],
   "metadata": {
    "collapsed": false,
    "ExecuteTime": {
     "end_time": "2024-01-09T20:46:52.565318Z",
     "start_time": "2024-01-09T20:46:52.557061Z"
    }
   },
   "id": "eba3ac2661631aed",
   "execution_count": 80
  },
  {
   "cell_type": "markdown",
   "source": [
    "## Scale the images\n",
    "\n",
    "This can be done here with /255, as the value range of RGB is only between 0 and 255."
   ],
   "metadata": {
    "collapsed": false
   },
   "id": "f7207de87345f96d"
  },
  {
   "cell_type": "code",
   "outputs": [
    {
     "name": "stdout",
     "output_type": "stream",
     "text": [
      "[[0.32255286 0.4558862  0.31078815]\n",
      " [0.32647443 0.45390242 0.31470972]\n",
      " [0.33041131 0.45197994 0.3186466 ]\n",
      " [0.3428194  0.45654488 0.33497626]\n",
      " [0.35889247 0.46666667 0.34906557]\n",
      " [0.37254903 0.4745098  0.36078432]\n",
      " [0.38493413 0.4868949  0.37316942]\n",
      " [0.38531327 0.48727405 0.37354857]\n",
      " [0.39411765 0.49607843 0.38235295]\n",
      " [0.40648744 0.50844824 0.39472273]\n",
      " [0.42469746 0.52665824 0.41293275]\n",
      " [0.43458182 0.5365426  0.42424172]\n",
      " [0.44117647 0.527451   0.4439185 ]\n",
      " [0.43333334 0.527451   0.44117647]\n",
      " [0.4254902  0.5235294  0.4372549 ]\n",
      " [0.4341452  0.5321844  0.44590992]\n",
      " [0.45507047 0.5648744  0.4746783 ]\n",
      " [0.4525697  0.56555223 0.47228095]\n",
      " [0.45238206 0.5577053  0.4372549 ]\n",
      " [0.47377834 0.5796607  0.45809206]\n",
      " [0.4948759  0.60075825 0.47918963]\n",
      " [0.51514244 0.6210248  0.4994562 ]\n",
      " [0.5284888  0.63437116 0.51280254]\n",
      " [0.5294118  0.63529414 0.5137255 ]\n",
      " [0.52104014 0.6386872  0.50535387]\n",
      " [0.5074525  0.6250996  0.49176624]\n",
      " [0.49255133 0.6101984  0.47686505]\n",
      " [0.5053692  0.62301624 0.4896829 ]\n",
      " [0.52367496 0.641322   0.5079887 ]\n",
      " [0.5207644  0.63841146 0.50346965]\n",
      " [0.497572   0.6191406  0.45125997]\n",
      " [0.47557062 0.59713924 0.4285118 ]\n",
      " [0.47761184 0.59918046 0.430553  ]\n",
      " [0.47794884 0.59951746 0.43089002]\n",
      " [0.47112823 0.59269685 0.4240694 ]\n",
      " [0.46357995 0.5851486  0.41777343]\n",
      " [0.45779717 0.5754442  0.44117647]\n",
      " [0.4309896  0.5455997  0.42137715]\n",
      " [0.41722196 0.53094745 0.41500077]\n",
      " [0.39743412 0.50723803 0.40919885]\n",
      " [0.38214615 0.49195006 0.40392157]\n",
      " [0.3647059  0.4719133  0.3882353 ]\n",
      " [0.3697189  0.44902343 0.40501302]\n",
      " [0.33834636 0.41022903 0.3814836 ]\n",
      " [0.3150046  0.37774968 0.36598498]\n",
      " [0.2986711  0.35357308 0.35357308]\n",
      " [0.2795305  0.32783777 0.33835402]\n",
      " [0.27887943 0.3220167  0.3455461 ]\n",
      " [0.27525276 0.32623315 0.3576057 ]\n",
      " [0.26053154 0.31151193 0.3428845 ]\n",
      " [0.26589307 0.31687346 0.348246  ]\n",
      " [0.2649012  0.31588158 0.34725413]\n",
      " [0.25855544 0.30953583 0.3409084 ]\n",
      " [0.2524778  0.30345818 0.33483073]\n",
      " [0.24547334 0.29645374 0.3278263 ]\n",
      " [0.2504251  0.3014055  0.33277804]\n",
      " [0.24517463 0.29615504 0.32752758]\n",
      " [0.24723881 0.2982192  0.32959175]\n",
      " [0.23386565 0.28484604 0.31621858]\n",
      " [0.22453278 0.27551317 0.30688572]\n",
      " [0.23869868 0.28967908 0.32105163]\n",
      " [0.23776424 0.28874463 0.32011718]\n",
      " [0.238714   0.2896944  0.32106695]\n",
      " [0.22745098 0.2784314  0.30980393]\n",
      " [0.24494103 0.29592142 0.32729396]\n",
      " [0.23478477 0.28576517 0.31713772]\n",
      " [0.23678385 0.2956074  0.31521523]\n",
      " [0.24048713 0.30622703 0.3189185 ]\n",
      " [0.2279067  0.29849494 0.30633807]\n",
      " [0.23015855 0.3085899  0.30466834]\n",
      " [0.22156863 0.30464154 0.29607844]\n",
      " [0.22054994 0.30682445 0.29505974]\n",
      " [0.2135838  0.29593673 0.2763289 ]\n",
      " [0.21531096 0.3023361  0.27571997]\n",
      " [0.20928691 0.299483   0.26811045]\n",
      " [0.17936964 0.28133044 0.23819317]\n",
      " [0.18078661 0.28745022 0.23725873]\n",
      " [0.1639323  0.2737362  0.21883425]\n",
      " [0.17988664 0.28184742 0.2465533 ]\n",
      " [0.1972618  0.30395603 0.25060892]\n",
      " [0.22672334 0.34044883 0.26560202]\n",
      " [0.24646522 0.37563956 0.26310125]\n",
      " [0.2824257  0.4181411  0.2887293 ]\n",
      " [0.29803923 0.44029564 0.28803614]\n",
      " [0.30566022 0.4466146  0.27450982]\n",
      " [0.3307215  0.471898   0.2867111 ]\n",
      " [0.3554496  0.50054765 0.2972618 ]\n",
      " [0.36460248 0.5134153  0.29050627]\n",
      " [0.3769225  0.52835476 0.28431374]\n",
      " [0.37983686 0.532778   0.27787608]\n",
      " [0.37479702 0.53362054 0.28067937]\n",
      " [0.37497702 0.5318398  0.28478095]\n",
      " [0.3618911  0.5187538  0.2756166 ]\n",
      " [0.34910768 0.5059704  0.26283318]\n",
      " [0.34313726 0.49877834 0.2671492 ]\n",
      " [0.35490197 0.51012564 0.28545496]\n",
      " [0.34345895 0.5155254  0.2764706 ]\n",
      " [0.34632736 0.5188764  0.27720204]\n",
      " [0.3509804  0.5235294  0.2764706 ]\n",
      " [0.34894684 0.52345663 0.27247626]\n",
      " [0.36057368 0.5370443  0.27966836]\n",
      " [0.3692134  0.545684   0.28293887]\n",
      " [0.37058824 0.54313725 0.29607844]\n",
      " [0.3782437  0.553282   0.30124465]\n",
      " [0.39334404 0.5698146  0.30706954]\n",
      " [0.4058249  0.5861022  0.3040939 ]\n",
      " [0.41819087 0.59858304 0.30980393]\n",
      " [0.4203661  0.6031633  0.30784315]\n",
      " [0.40417048 0.60387176 0.30201057]\n",
      " [0.40392157 0.6039216  0.29692096]\n",
      " [0.41237363 0.61237365 0.3025697 ]\n",
      " [0.42344517 0.6273667  0.3057981 ]\n",
      " [0.42030102 0.6242226  0.3001187 ]\n",
      " [0.43899357 0.6429151  0.31495863]\n",
      " [0.45882353 0.65091145 0.30209866]\n",
      " [0.45558748 0.65284544 0.29617417]\n",
      " [0.46336934 0.66336936 0.302585  ]\n",
      " [0.4550092  0.6667739  0.29814646]\n",
      " [0.46395528 0.6808517  0.30452666]\n",
      " [0.46806067 0.6876685  0.30727634]\n",
      " [0.46470588 0.6764706  0.30392158]\n",
      " [0.46470588 0.6764706  0.30392158]\n",
      " [0.46470588 0.6764706  0.30392158]\n",
      " [0.47056526 0.68232995 0.30978096]\n",
      " [0.4771063  0.688871   0.316322  ]\n",
      " [0.48235294 0.6967065  0.32156864]\n",
      " [0.47058058 0.7078163  0.3097886 ]\n",
      " [0.4810432  0.7117685  0.31764707]\n",
      " [0.4836627  0.7071921  0.32679993]\n",
      " [0.50196844 0.72156864 0.34119946]\n",
      " [0.502608   0.7156671  0.34703967]\n",
      " [0.50590914 0.7157131  0.3510072 ]\n",
      " [0.4980622  0.71374846 0.35296416]\n",
      " [0.5058824  0.72156864 0.36078432]\n",
      " [0.4894761  0.7051624  0.34437805]\n",
      " [0.49017692 0.7058632  0.3450789 ]\n",
      " [0.4869064  0.7025927  0.34180838]\n",
      " [0.48235294 0.69803923 0.3372549 ]\n",
      " [0.4862477  0.69409084 0.34114966]\n",
      " [0.48297718 0.69082034 0.34055224]\n",
      " [0.47843137 0.6862745  0.34117648]\n",
      " [0.4764706  0.68039215 0.34712777]\n",
      " [0.4731656  0.6770872  0.35036382]\n",
      " [0.47058824 0.6745098  0.35040593]\n",
      " [0.46470588 0.66862744 0.3745098 ]\n",
      " [0.4674096  0.6659237  0.37721354]\n",
      " [0.46008348 0.6561619  0.37773055]\n",
      " [0.4665671  0.64695925 0.39215687]\n",
      " [0.46290213 0.6378562  0.39231387]\n",
      " [0.48055685 0.65310585 0.41105622]\n",
      " [0.48050705 0.6608992  0.37652802]\n",
      " [0.48900887 0.66940105 0.38312653]\n",
      " [0.49607843 0.6764706  0.38235295]\n",
      " [0.50392157 0.68444395 0.38993567]\n",
      " [0.50667125 0.69098496 0.38510263]\n",
      " [0.5200291  0.7        0.39019608]\n",
      " [0.5311543  0.69586015 0.37400046]\n",
      " [0.5262944  0.6910003  0.3560585 ]\n",
      " [0.50883883 0.6774663  0.3284467 ]\n",
      " [0.49983916 0.66830575 0.3197687 ]\n",
      " [0.4955078  0.6602137  0.32851946]\n",
      " [0.47865734 0.641885   0.32475108]\n",
      " [0.4546377  0.6193436  0.32522595]\n",
      " [0.45181525 0.6165211  0.3224035 ]\n",
      " [0.43230698 0.5970129  0.30289522]\n",
      " [0.4392157  0.6039216  0.30980393]\n",
      " [0.4392157  0.6039216  0.30980393]\n",
      " [0.4392157  0.604676   0.30678615]\n",
      " [0.43911228 0.61620325 0.29050627]\n",
      " [0.43301547 0.62125075 0.28399587]\n",
      " [0.43758044 0.6375804  0.2752719 ]\n",
      " [0.4348499  0.6392157  0.25490198]\n",
      " [0.43759575 0.653282   0.254362  ]\n",
      " [0.45175016 0.6728975  0.26316637]\n",
      " [0.45906097 0.6923943  0.2551394 ]\n",
      " [0.46470588 0.69803923 0.26078433]\n",
      " [0.4580461  0.6913794  0.25412455]\n",
      " [0.44876686 0.6821002  0.24484529]\n",
      " [0.44797027 0.6813036  0.24404871]\n",
      " [0.4427428  0.67529106 0.2435317 ]\n",
      " [0.43569624 0.65922564 0.27295113]\n",
      " [0.44313726 0.6627451  0.29112285]\n",
      " [0.42703354 0.6438879  0.2909888 ]\n",
      " [0.4253485  0.6389323  0.3099456 ]\n",
      " [0.41474417 0.62505746 0.31662837]\n",
      " [0.40668276 0.6129251  0.32040825]\n",
      " [0.4177964  0.60211015 0.3318206 ]\n",
      " [0.42106694 0.60538065 0.338714  ]\n",
      " [0.42468214 0.6050743  0.35017234]\n",
      " [0.41764706 0.5980392  0.3434513 ]\n",
      " [0.4137255  0.59411764 0.34607077]\n",
      " [0.40980393 0.58856463 0.35032168]\n",
      " [0.41209406 0.58464307 0.37679994]\n",
      " [0.41764706 0.5901961  0.38825062]\n",
      " [0.4117647  0.58431375 0.38431373]\n",
      " [0.40963158 0.5821806  0.39002374]\n",
      " [0.40588236 0.5754672  0.39220282]\n",
      " [0.41063496 0.57926244 0.39887026]\n",
      " [0.41746706 0.5978592  0.40962392]\n",
      " [0.410746   0.5911382  0.40588236]\n",
      " [0.40392157 0.58431375 0.40392157]\n",
      " [0.40999156 0.59000844 0.4107422 ]\n",
      " [0.40830654 0.5847771  0.41614968]\n",
      " [0.39438573 0.57085633 0.40615043]\n",
      " [0.39646906 0.5611749  0.40823376]\n",
      " [0.40150505 0.5662109  0.41627988]\n",
      " [0.4047756  0.5694815  0.428305  ]\n",
      " [0.40351564 0.56781554 0.42745098]\n",
      " [0.393053   0.5538373  0.42050397]\n",
      " [0.38259038 0.5433747  0.41396293]\n",
      " [0.3895642  0.53466225 0.40525046]\n",
      " [0.38887486 0.53397286 0.41064262]\n",
      " [0.3904182  0.53551626 0.4139476 ]\n",
      " [0.38867188 0.52984834 0.42004442]\n",
      " [0.39607844 0.5372549  0.4335631 ]\n",
      " [0.39169347 0.5381319  0.43090916]\n",
      " [0.3871783  0.54773664 0.417873  ]\n",
      " [0.4026463  0.55993414 0.42660078]\n",
      " [0.4204925  0.56559056 0.4322572 ]\n",
      " [0.4421109  0.5788986  0.4485524 ]\n",
      " [0.45602787 0.58473116 0.4490196 ]\n",
      " [0.45632276 0.58431375 0.4424211 ]\n",
      " [0.4372549  0.5980392  0.42892924]\n",
      " [0.4372549  0.5980392  0.4254902 ]\n",
      " [0.4372549  0.6019608  0.42156863]\n",
      " [0.43728554 0.6019914  0.42060354]\n",
      " [0.45490196 0.61960787 0.43137255]\n",
      " [0.45671722 0.6214231  0.42745098]\n",
      " [0.46521905 0.61816025 0.40639552]\n",
      " [0.46785003 0.62705654 0.4090265 ]\n",
      " [0.4618298  0.62261415 0.39725414]\n",
      " [0.43306908 0.6056181  0.3697955 ]\n",
      " [0.43844208 0.6172871  0.37177542]\n",
      " [0.4373698  0.61776197 0.37254903]\n",
      " [0.44232154 0.61906403 0.38687578]\n",
      " [0.42308518 0.6034773  0.35401347]\n",
      " [0.4079427  0.5901961  0.32971048]\n",
      " [0.4081227  0.5929956  0.30952436]\n",
      " [0.41298252 0.6012178  0.30466452]\n",
      " [0.42446768 0.61662453 0.30306756]\n",
      " [0.43390778 0.64175093 0.2927313 ]\n",
      " [0.44437042 0.6522135  0.3       ]\n",
      " [0.44509804 0.65294117 0.2941866 ]\n",
      " [0.44794348 0.65804225 0.29274663]\n",
      " [0.44777113 0.6595358  0.28769913]\n",
      " [0.45580193 0.66756666 0.29501763]\n",
      " [0.4598767  0.6710363  0.30361903]\n",
      " [0.45420498 0.6523744  0.30126378]\n",
      " [0.45490196 0.6509804  0.30980393]\n",
      " [0.4633655  0.6509804  0.32342985]\n",
      " [0.48260954 0.65720356 0.34603631]\n",
      " [0.48431373 0.65686274 0.35877758]\n",
      " [0.488871   0.64965534 0.3908318 ]\n",
      " [0.48368567 0.6412148  0.39215687]\n",
      " [0.4892042  0.64606696 0.39900813]\n",
      " [0.48431373 0.64117646 0.39803922]]\n"
     ]
    }
   ],
   "source": [
    "images = images / 255.0 # divide by float forces the result to be a float\n",
    "\n",
    "# Inspect scaled first row of pixels of the first image in RGB\n",
    "print(images[0][0])"
   ],
   "metadata": {
    "collapsed": false,
    "ExecuteTime": {
     "end_time": "2024-01-09T20:46:54.301535Z",
     "start_time": "2024-01-09T20:46:54.094078Z"
    }
   },
   "id": "aaf79a2013bd77da",
   "execution_count": 81
  },
  {
   "cell_type": "markdown",
   "source": [
    "# Split the data into train and test data"
   ],
   "metadata": {
    "collapsed": false
   },
   "id": "b56faac4597f778e"
  },
  {
   "cell_type": "code",
   "outputs": [],
   "source": [
    "X_train, X_test, y_train, y_test = train_test_split(images, labels, test_size=0.2, random_state=42)"
   ],
   "metadata": {
    "collapsed": false,
    "ExecuteTime": {
     "end_time": "2024-01-09T20:46:56.644029Z",
     "start_time": "2024-01-09T20:46:56.378758Z"
    }
   },
   "id": "b7a16aa0fe3589b3",
   "execution_count": 82
  },
  {
   "cell_type": "markdown",
   "source": [
    "# Create the model"
   ],
   "metadata": {
    "collapsed": false
   },
   "id": "71f9cc0962bdb078"
  },
  {
   "cell_type": "code",
   "execution_count": 113,
   "outputs": [],
   "source": [
    "# sequential means that the layers are stacked on top of each other leading to a feed forward neural network\n",
    "model = tf.keras.models.Sequential([\n",
    "    # Adding a convolutional layer to detect features in the images\n",
    "    \n",
    "    # 16 filters to detect 16 different features like edges, textures, structure etc.\n",
    "    # 3x3 kernel size to detect features in a 3x3 area\n",
    "    # 1 stride to move the kernel by 1 pixel\n",
    "    # relu activation function to introduce non-linearity\n",
    "    # input shape: height, width, colors/channels (RGB)\n",
    "    tf.keras.layers.Conv2D(16, (3, 3), 1, activation='relu', input_shape=(256, 256, 3)), # output shape: 254x254x16 (width, height, features)\n",
    "\n",
    "    # Adding a max pooling layer to reduce the dimensionality of the data\n",
    "    # achieved by taking the maximum value of a 2x2 area as the representative value for that area\n",
    "    tf.keras.layers.MaxPool2D(), # output shape: 127x127x16\n",
    "    \n",
    "    # Adding more layers to continously learn more complex features\n",
    "    # Continouse learning of more complex features is achieved by increasing the number of filters\n",
    "    # A more compact representation of the data is achieved by reducing the kernel size continuously via max pooling\n",
    "    tf.keras.layers.Conv2D(32, (3, 3), 1, activation='relu'), # output shape: 125x125x32\n",
    "    tf.keras.layers.MaxPool2D(), # output shape: 62x62x32\n",
    "    tf.keras.layers.Conv2D(64, (3, 3), 1, activation='relu'), # output shape: 60x60x64\n",
    "    tf.keras.layers.MaxPooling2D(), # output shape: 30x30x64 (width, height, features)\n",
    "    \n",
    "    # Adding a flatten layer to transform the 2D data into a 1D vector\n",
    "    tf.keras.layers.Flatten(), # output shape: 57600\n",
    "    \n",
    "    # Adding a dense layer to learn the classification\n",
    "    tf.keras.layers.Dense(256, activation='relu'),\n",
    "    \n",
    "    # Adding the output layer to classify the images - either as a Kaninchen or as a Feldhase\n",
    "    tf.keras.layers.Dense(1, activation='sigmoid')\n",
    "])"
   ],
   "metadata": {
    "collapsed": false,
    "ExecuteTime": {
     "end_time": "2024-01-09T21:01:30.732295Z",
     "start_time": "2024-01-09T21:01:30.613874Z"
    }
   },
   "id": "ac8960157002f51d"
  },
  {
   "cell_type": "markdown",
   "source": [
    "# Configuring the neural network model"
   ],
   "metadata": {
    "collapsed": false
   },
   "id": "6fe83a9ecd40dd4b"
  },
  {
   "cell_type": "code",
   "execution_count": 114,
   "outputs": [],
   "source": [
    "# 'compile' configures the selected neural network model\n",
    "# 'adam' adapts the learning rate of each parameter individually, aiming to minimize the loss function (binary crossentropy in our case)\n",
    "# the metrics are used to measure the performance of our model\n",
    "model.compile('adam', loss=tf.losses.BinaryCrossentropy(), metrics=['accuracy'])"
   ],
   "metadata": {
    "collapsed": false,
    "ExecuteTime": {
     "end_time": "2024-01-09T21:01:32.403021Z",
     "start_time": "2024-01-09T21:01:32.398382Z"
    }
   },
   "id": "5735edff61b2a4e9"
  },
  {
   "cell_type": "markdown",
   "source": [
    "# Train the model"
   ],
   "metadata": {
    "collapsed": false
   },
   "id": "9aa22a7757a8421b"
  },
  {
   "cell_type": "code",
   "execution_count": 119,
   "outputs": [
    {
     "name": "stdout",
     "output_type": "stream",
     "text": [
      "Epoch 1/20\n",
      "4/4 [==============================] - 7s 1s/step - loss: 0.1900 - accuracy: 0.9438 - val_loss: 0.3976 - val_accuracy: 0.8250\n",
      "Epoch 2/20\n",
      "4/4 [==============================] - 4s 984ms/step - loss: 0.1682 - accuracy: 0.9594 - val_loss: 0.3896 - val_accuracy: 0.8375\n",
      "Epoch 3/20\n",
      "4/4 [==============================] - 5s 1s/step - loss: 0.1257 - accuracy: 0.9719 - val_loss: 0.4372 - val_accuracy: 0.7750\n",
      "Epoch 4/20\n",
      "4/4 [==============================] - 5s 1s/step - loss: 0.1088 - accuracy: 0.9750 - val_loss: 0.4268 - val_accuracy: 0.7625\n",
      "Epoch 5/20\n",
      "4/4 [==============================] - 5s 1s/step - loss: 0.0876 - accuracy: 0.9844 - val_loss: 0.4870 - val_accuracy: 0.7500\n"
     ]
    }
   ],
   "source": [
    "# Implementing early stopping to prevent overfitting\n",
    "# 'patience' is the number of epochs with no improvement after which training will be stopped\n",
    "# 'restore_best_weights' restores the weights from the epoch with the best value of the monitored quantity\n",
    "early_stopping = tf.keras.callbacks.EarlyStopping(monitor='val_accuracy', patience=3, restore_best_weights=True)\n",
    "\n",
    "# 'fit' trains the model\n",
    "# 'epochs' is the number of times the model is trained on the whole dataset\n",
    "hist = model.fit(X_train, y_train, validation_data=(X_test, y_test), epochs=20, batch_size=100, callbacks=[early_stopping])"
   ],
   "metadata": {
    "collapsed": false,
    "ExecuteTime": {
     "end_time": "2024-01-09T21:04:22.542760Z",
     "start_time": "2024-01-09T21:03:57.210534Z"
    }
   },
   "id": "c23bfe63e3a4aa42"
  },
  {
   "cell_type": "markdown",
   "source": [
    "# Plot the training and the validation accuracy, as well as the loss"
   ],
   "metadata": {
    "collapsed": false
   },
   "id": "e5c569326fdb0a4e"
  },
  {
   "cell_type": "code",
   "execution_count": 120,
   "outputs": [
    {
     "data": {
      "text/plain": "<Figure size 640x480 with 1 Axes>",
      "image/png": "[encoded data removed]"
     },
     "metadata": {},
     "output_type": "display_data"
    },
    {
     "data": {
      "text/plain": "<Figure size 640x480 with 1 Axes>",
      "image/png": "[encoded data removed]"
     },
     "metadata": {},
     "output_type": "display_data"
    }
   ],
   "source": [
    "import matplotlib.pyplot as plt\n",
    "\n",
    "# Plot the training and the validation accuracy\n",
    "plt.plot(hist.history['accuracy'])\n",
    "plt.plot(hist.history['val_accuracy'])\n",
    "plt.title('Model accuracy')\n",
    "plt.ylabel('Accuracy')\n",
    "plt.xlabel('Epoch')\n",
    "plt.ylim(0, 1.05)  # Set y-axis limits to start at 0 and end at 1.05\n",
    "plt.legend(['Training accuracy', 'Validation accuracy'], loc='lower right') # loc='lower right' to place the legend in the lower right corner\n",
    "plt.show()\n",
    "\n",
    "# Plot the training and the validation loss\n",
    "plt.plot(hist.history['loss'])\n",
    "plt.plot(hist.history['val_loss'])\n",
    "plt.title('Model loss')\n",
    "plt.ylabel('Loss')\n",
    "plt.xlabel('Epoch')\n",
    "plt.ylim(0, 1.05)\n",
    "plt.legend(['Training loss', 'Validation loss'], loc='upper right') # loc='upper right' to place the legend in the upper right corner\n",
    "plt.show()"
   ],
   "metadata": {
    "collapsed": false,
    "ExecuteTime": {
     "end_time": "2024-01-09T21:04:22.757693Z",
     "start_time": "2024-01-09T21:04:22.549966Z"
    }
   },
   "id": "e4938f86e937cf82"
  },
  {
   "cell_type": "code",
   "execution_count": 121,
   "outputs": [
    {
     "name": "stdout",
     "output_type": "stream",
     "text": [
      "3/3 - 0s - loss: 0.3896 - accuracy: 0.8375 - 251ms/epoch - 84ms/step\n",
      "Test accuracy: 0.8374999761581421\n"
     ]
    }
   ],
   "source": [
    "# Evaluate the model based on the test data\n",
    "test_loss, test_acc = model.evaluate(X_test, y_test, verbose=2) # verbose=2 to suppress the progress bar\n",
    "print(f'Test accuracy: {test_acc}')"
   ],
   "metadata": {
    "collapsed": false,
    "ExecuteTime": {
     "end_time": "2024-01-09T21:04:23.054018Z",
     "start_time": "2024-01-09T21:04:22.759109Z"
    }
   },
   "id": "271587a53471d18c"
  },
  {
   "cell_type": "code",
   "execution_count": 87,
   "outputs": [],
   "source": [],
   "metadata": {
    "collapsed": false,
    "ExecuteTime": {
     "end_time": "2024-01-09T20:47:34.298706Z",
     "start_time": "2024-01-09T20:47:34.295649Z"
    }
   },
   "id": "bc1c3296edc803f"
  },
  {
   "cell_type": "code",
   "execution_count": null,
   "outputs": [],
   "source": [],
   "metadata": {
    "collapsed": false
   },
   "id": "8a1be1023eebe10a"
  }
 ],
 "metadata": {
  "kernelspec": {
   "display_name": "Python 3",
   "language": "python",
   "name": "python3"
  },
  "language_info": {
   "codemirror_mode": {
    "name": "ipython",
    "version": 2
   },
   "file_extension": ".py",
   "mimetype": "text/x-python",
   "name": "python",
   "nbconvert_exporter": "python",
   "pygments_lexer": "ipython2",
   "version": "2.7.6"
  }
 },
 "nbformat": 4,
 "nbformat_minor": 5
}
