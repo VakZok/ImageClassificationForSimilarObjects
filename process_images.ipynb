{
 "cells": [
  {
   "cell_type": "markdown",
   "source": [
    "# Image Processor\n",
    "The goal of this notebook is to create a model that can classify images of the following two classes:\n",
    "- Kaninchen\n",
    "- Feldhase\n",
    "\n",
    "The comments in this notebook are plenty and generated mostly using the help of artificial intelligence. This approach is chosen, as it enables both the developers and the users of this notebook to understand the code better."
   ],
   "metadata": {
    "collapsed": false
   },
   "id": "52335692d14e9776"
  },
  {
   "cell_type": "markdown",
   "source": [
    "# Imports"
   ],
   "metadata": {
    "collapsed": false
   },
   "id": "3693b8f986328b26"
  },
  {
   "cell_type": "code",
   "outputs": [],
   "source": [
    "import numpy as np\n",
    "import tensorflow as tf\n",
    "from sklearn.model_selection import train_test_split"
   ],
   "metadata": {
    "collapsed": false,
    "ExecuteTime": {
     "end_time": "2024-01-09T20:36:22.554208Z",
     "start_time": "2024-01-09T20:36:22.544470Z"
    }
   },
   "id": "f942088f6822c409",
   "execution_count": 52
  },
  {
   "cell_type": "markdown",
   "source": [
    "# Adjust the GPU memory growth dynamically"
   ],
   "metadata": {
    "collapsed": false
   },
   "id": "1386b3984ac34736"
  },
  {
   "cell_type": "code",
   "execution_count": 54,
   "outputs": [
    {
     "data": {
      "text/plain": "[]"
     },
     "execution_count": 54,
     "metadata": {},
     "output_type": "execute_result"
    }
   ],
   "source": [
    "gpus = tf.config.experimental.list_physical_devices('GPU') # Get the list of GPUs\n",
    "for gpu in gpus: \n",
    "    tf.config.experimental.set_memory_growth(gpu, True) # enable tensorflow to allocate memory dynamically -> use only as much GPU memory as needed\n",
    "gpus"
   ],
   "metadata": {
    "collapsed": false,
    "ExecuteTime": {
     "end_time": "2024-01-09T20:36:44.783478Z",
     "start_time": "2024-01-09T20:36:44.777599Z"
    }
   },
   "id": "150016df4048127"
  },
  {
   "cell_type": "code",
   "execution_count": 55,
   "outputs": [
    {
     "data": {
      "text/plain": "[]"
     },
     "execution_count": 55,
     "metadata": {},
     "output_type": "execute_result"
    }
   ],
   "source": [
    "tf.config.list_physical_devices('GPU') # Check if GPU is available"
   ],
   "metadata": {
    "collapsed": false,
    "ExecuteTime": {
     "end_time": "2024-01-09T20:36:45.450423Z",
     "start_time": "2024-01-09T20:36:45.445506Z"
    }
   },
   "id": "b7cdfe5e88fb1c3"
  },
  {
   "cell_type": "markdown",
   "source": [
    "# Load images, multiplay them by applying data augmentation, and transform them into a numpy array"
   ],
   "metadata": {
    "collapsed": false
   },
   "id": "c19d96e6b9493e62"
  },
  {
   "cell_type": "code",
   "outputs": [
    {
     "name": "stdout",
     "output_type": "stream",
     "text": [
      "Found 400 images belonging to 2 classes.\n",
      "[[120 130 122]\n",
      " [120 130 122]\n",
      " [121 130 123]\n",
      " [121 130 123]\n",
      " [121 129 124]\n",
      " [121 128 125]\n",
      " [121 128 125]\n",
      " [122 128 126]\n",
      " [122 128 126]\n",
      " [122 128 126]\n",
      " [123 129 127]\n",
      " [123 129 127]\n",
      " [124 130 127]\n",
      " [124 130 127]\n",
      " [124 130 127]\n",
      " [124 130 126]\n",
      " [124 130 126]\n",
      " [124 130 126]\n",
      " [124 130 126]\n",
      " [124 130 126]\n",
      " [124 130 126]\n",
      " [124 130 126]\n",
      " [123 129 125]\n",
      " [123 129 124]\n",
      " [122 129 123]\n",
      " [122 128 122]\n",
      " [121 128 121]\n",
      " [120 127 120]\n",
      " [120 127 120]\n",
      " [120 127 120]\n",
      " [119 126 119]\n",
      " [119 126 119]\n",
      " [118 125 118]\n",
      " [117 125 117]\n",
      " [116 125 117]\n",
      " [115 124 116]\n",
      " [114 124 115]\n",
      " [113 123 114]\n",
      " [113 123 113]\n",
      " [111 122 112]\n",
      " [111 123 112]\n",
      " [110 122 110]\n",
      " [109 121 109]\n",
      " [110 122 109]\n",
      " [109 122 108]\n",
      " [108 121 106]\n",
      " [107 120 104]\n",
      " [107 121 104]\n",
      " [106 121 103]\n",
      " [106 122 102]\n",
      " [106 121 101]\n",
      " [105 120 100]\n",
      " [103 118  97]\n",
      " [102 118  95]\n",
      " [101 117  93]\n",
      " [101 117  92]\n",
      " [101 117  91]\n",
      " [100 116  90]\n",
      " [100 115  88]\n",
      " [ 99 116  88]\n",
      " [ 99 117  88]\n",
      " [100 118  89]\n",
      " [102 121  91]\n",
      " [105 124  94]\n",
      " [107 126  96]\n",
      " [108 127  97]\n",
      " [108 127  97]\n",
      " [107 126  96]\n",
      " [108 128  97]\n",
      " [109 128  97]\n",
      " [109 129  97]\n",
      " [107 129  96]\n",
      " [105 129  95]\n",
      " [104 128  94]\n",
      " [105 127  92]\n",
      " [103 124  89]\n",
      " [103 122  88]\n",
      " [101 121  86]\n",
      " [ 99 118  82]\n",
      " [ 98 116  78]\n",
      " [ 98 116  78]\n",
      " [ 96 112  75]\n",
      " [ 97 113  76]\n",
      " [ 96 112  75]\n",
      " [ 95 110  74]\n",
      " [ 94 110  73]\n",
      " [ 93 109  72]\n",
      " [ 91 107  70]\n",
      " [ 91 107  70]\n",
      " [ 91 107  71]\n",
      " [ 91 107  71]\n",
      " [ 90 106  70]\n",
      " [ 90 106  70]\n",
      " [ 91 107  71]\n",
      " [ 89 105  69]\n",
      " [ 89 105  69]\n",
      " [ 91 107  71]\n",
      " [ 94 110  74]\n",
      " [ 97 113  77]\n",
      " [ 98 114  78]\n",
      " [ 99 116  79]\n",
      " [100 117  80]\n",
      " [ 99 118  80]\n",
      " [100 118  78]\n",
      " [ 99 118  77]\n",
      " [ 98 118  75]\n",
      " [ 96 117  74]\n",
      " [ 96 117  74]\n",
      " [ 96 117  73]\n",
      " [ 95 117  73]\n",
      " [ 96 117  73]\n",
      " [ 96 118  72]\n",
      " [ 96 118  72]\n",
      " [ 95 117  71]\n",
      " [ 93 115  69]\n",
      " [ 95 114  69]\n",
      " [ 95 113  68]\n",
      " [ 95 112  68]\n",
      " [ 93 110  66]\n",
      " [ 92 107  64]\n",
      " [ 88 105  61]\n",
      " [ 87 104  60]\n",
      " [ 87 104  60]\n",
      " [ 87 104  60]\n",
      " [ 87 104  60]\n",
      " [ 88 105  61]\n",
      " [ 90 106  63]\n",
      " [ 94 106  66]\n",
      " [ 95 107  67]\n",
      " [ 98 110  70]\n",
      " [ 99 111  71]\n",
      " [102 113  73]\n",
      " [108 116  77]\n",
      " [110 118  79]\n",
      " [111 120  82]\n",
      " [113 123  86]\n",
      " [116 126  89]\n",
      " [119 129  92]\n",
      " [121 131  94]\n",
      " [120 130  93]\n",
      " [120 129  92]\n",
      " [122 127  93]\n",
      " [122 126  93]\n",
      " [122 126  93]\n",
      " [122 126  92]\n",
      " [122 126  91]\n",
      " [123 127  90]\n",
      " [123 127  90]\n",
      " [124 128  89]\n",
      " [125 129  90]\n",
      " [127 129  90]\n",
      " [129 130  90]\n",
      " [132 133  93]\n",
      " [133 134  92]\n",
      " [134 135  93]\n",
      " [135 138  95]\n",
      " [135 137  95]\n",
      " [135 137  97]\n",
      " [136 139  97]\n",
      " [138 141  97]\n",
      " [142 146  96]\n",
      " [146 151  96]\n",
      " [151 154  97]\n",
      " [155 159 100]\n",
      " [159 165 104]\n",
      " [161 167 104]\n",
      " [165 172 105]\n",
      " [168 178 109]\n",
      " [172 182 112]\n",
      " [172 185 112]\n",
      " [172 187 112]\n",
      " [172 189 112]\n",
      " [173 191 112]\n",
      " [173 192 111]\n",
      " [172 193 111]\n",
      " [169 191 109]\n",
      " [169 191 109]\n",
      " [169 191 109]\n",
      " [169 191 109]\n",
      " [170 192 110]\n",
      " [171 193 111]\n",
      " [171 193 111]\n",
      " [171 193 111]\n",
      " [170 194 108]\n",
      " [170 194 108]\n",
      " [170 194 108]\n",
      " [170 194 110]\n",
      " [170 193 110]\n",
      " [170 193 111]\n",
      " [170 193 111]\n",
      " [170 193 113]\n",
      " [168 191 111]\n",
      " [168 191 111]\n",
      " [169 192 112]\n",
      " [168 191 111]\n",
      " [168 191 111]\n",
      " [167 191 110]\n",
      " [166 191 110]\n",
      " [166 191 110]\n",
      " [165 190 109]\n",
      " [165 190 109]\n",
      " [164 189 108]\n",
      " [163 188 107]\n",
      " [162 187 105]\n",
      " [162 187 103]\n",
      " [163 188 105]\n",
      " [164 189 106]\n",
      " [164 189 106]\n",
      " [163 188 107]\n",
      " [161 185 106]\n",
      " [160 184 106]\n",
      " [159 181 108]\n",
      " [158 180 107]\n",
      " [158 180 107]\n",
      " [159 181 108]\n",
      " [160 182 109]\n",
      " [160 182 109]\n",
      " [161 183 107]\n",
      " [161 184 106]\n",
      " [161 184 106]\n",
      " [161 184 106]\n",
      " [160 183 105]\n",
      " [160 183 105]\n",
      " [159 182 104]\n",
      " [158 182 105]\n",
      " [158 182 108]\n",
      " [156 180 106]\n",
      " [156 180 106]\n",
      " [155 179 105]\n",
      " [153 177 103]\n",
      " [152 176 102]\n",
      " [152 175 100]\n",
      " [152 175  97]\n",
      " [152 175  97]\n",
      " [154 177  99]\n",
      " [155 178 100]\n",
      " [156 179 101]\n",
      " [156 179 101]\n",
      " [155 178 100]\n",
      " [154 177  97]\n",
      " [155 178  98]\n",
      " [155 178  98]\n",
      " [155 178  98]\n",
      " [157 180 100]\n",
      " [158 181 101]\n",
      " [158 181 101]\n",
      " [157 182 100]\n",
      " [156 181 100]\n",
      " [154 181 100]\n",
      " [153 180 100]\n",
      " [152 180 101]\n",
      " [149 177 100]\n",
      " [147 175  98]\n",
      " [145 173  96]\n",
      " [144 172  95]\n",
      " [144 172  95]]\n"
     ]
    }
   ],
   "source": [
    "from keras.src.preprocessing.image import ImageDataGenerator\n",
    "\n",
    "# Create an ImageDataGenerator instance with various data augmentation parameters\n",
    "data_gen = ImageDataGenerator(\n",
    "    # rescale=1./255,         # Scale the images to values between 0 and 1\n",
    "    rotation_range=10,      # Randomly rotate images by up to 10 degrees\n",
    "    width_shift_range=0.1,  # Randomly shift images horizontally by up to 10%\n",
    "    height_shift_range=0.1, # Randomly shift images vertically by up to 10%\n",
    "    shear_range=0.2,        # Shear transformation to tilt the image by up to 20%\n",
    "    zoom_range=0.2,         # Randomly zoom in on images by up to 20%\n",
    "    # horizontal_flip=True,   # Randomly flip images horizontally\n",
    "    vertical_flip=False,    # No vertical flipping in this example\n",
    "    fill_mode='nearest'     # Fill in missing pixels with the nearest available pixel\n",
    ")\n",
    "\n",
    "# Create a dataset from the images in the folder (with 400 images per dataset)\n",
    "# The images are augmented to the parameters specified above\n",
    "data = data_gen.flow_from_directory(\n",
    "    'photos', \n",
    "    batch_size=400, \n",
    "    class_mode='binary',    # Binary classification (Kaninchen or Feldhase)\n",
    "    shuffle=True\n",
    ")\n",
    "\n",
    "# Create a data iterator for the dataset\n",
    "data_iterator = iter(data)\n",
    "\n",
    "# Example: Fetch the first batch from the iterator\n",
    "images, labels = next(data_iterator)\n",
    "\n",
    "# Inspect the first row of pixels of the first image in RGB\n",
    "print(images[0].astype(int)[0])"
   ],
   "metadata": {
    "collapsed": false,
    "ExecuteTime": {
     "end_time": "2024-01-09T21:51:41.599814Z",
     "start_time": "2024-01-09T21:51:37.358791Z"
    }
   },
   "id": "3c5775b28d29e1ad",
   "execution_count": 146
  },
  {
   "cell_type": "markdown",
   "source": [
    "# Inspect the shape of the images"
   ],
   "metadata": {
    "collapsed": false
   },
   "id": "5f74c98d9a263e2a"
  },
  {
   "cell_type": "code",
   "outputs": [
    {
     "name": "stdout",
     "output_type": "stream",
     "text": [
      "Number of images: 400\n",
      "Number of classes: 2\n"
     ]
    }
   ],
   "source": [
    "num_images = len(images)\n",
    "num_classes = len(np.unique(labels))\n",
    "print(f\"Number of images: {num_images}\")\n",
    "print(f\"Number of classes: {num_classes}\")"
   ],
   "metadata": {
    "collapsed": false,
    "ExecuteTime": {
     "end_time": "2024-01-09T21:51:41.600649Z",
     "start_time": "2024-01-09T21:51:41.598444Z"
    }
   },
   "id": "eba3ac2661631aed",
   "execution_count": 147
  },
  {
   "cell_type": "markdown",
   "source": [
    "## Scale the images\n",
    "\n",
    "This can be done here with /255, as the value range of RGB is only between 0 and 255."
   ],
   "metadata": {
    "collapsed": false
   },
   "id": "f7207de87345f96d"
  },
  {
   "cell_type": "code",
   "outputs": [
    {
     "name": "stdout",
     "output_type": "stream",
     "text": [
      "[[0.47069186 0.50990754 0.478535  ]\n",
      " [0.4730405  0.5122562  0.48088363]\n",
      " [0.4748029  0.5128461  0.4832323 ]\n",
      " [0.47558582 0.51049745 0.48558095]\n",
      " [0.4763687  0.5081488  0.4879296 ]\n",
      " [0.47715157 0.5058001  0.49027827]\n",
      " [0.47793448 0.50345147 0.49262694]\n",
      " [0.47900334 0.5025327  0.4946896 ]\n",
      " [0.4805691  0.50409853 0.49625537]\n",
      " [0.48213488 0.5056643  0.49782115]\n",
      " [0.48370066 0.50723004 0.49938694]\n",
      " [0.48526642 0.5087958  0.50095266]\n",
      " [0.4862745  0.50980395 0.5014031 ]\n",
      " [0.4862745  0.50980395 0.49983734]\n",
      " [0.4862745  0.50980395 0.49827155]\n",
      " [0.4862745  0.50980395 0.4967058 ]\n",
      " [0.4862745  0.50980395 0.49514002]\n",
      " [0.4862745  0.50980395 0.49411765]\n",
      " [0.4862745  0.50980395 0.49411765]\n",
      " [0.4862745  0.50980395 0.49411765]\n",
      " [0.4862745  0.50980395 0.49411765]\n",
      " [0.4862745  0.50980395 0.49411765]\n",
      " [0.48548084 0.50927484 0.49279487]\n",
      " [0.48313218 0.507709   0.48888046]\n",
      " [0.48078352 0.5061433  0.484966  ]\n",
      " [0.47843486 0.5045775  0.48105156]\n",
      " [0.47608623 0.5030117  0.47713715]\n",
      " [0.47399497 0.50144595 0.47399497]\n",
      " [0.4724292  0.49988016 0.4724292 ]\n",
      " [0.47086343 0.4983144  0.47086343]\n",
      " [0.46929768 0.49674866 0.46929768]\n",
      " [0.4677319  0.49518287 0.4677319 ]\n",
      " [0.4654153  0.4936171  0.46566558]\n",
      " [0.46150088 0.49205133 0.46253404]\n",
      " [0.45758647 0.49048555 0.4594025 ]\n",
      " [0.45367202 0.4889198  0.45627093]\n",
      " [0.4497576  0.487354   0.45313942]\n",
      " [0.44649616 0.4861981  0.4501746 ]\n",
      " [0.4434774  0.48474514 0.44637296]\n",
      " [0.43861675 0.48145026 0.4407294 ]\n",
      " [0.43852848 0.4829277  0.43985823]\n",
      " [0.43465394 0.48061895 0.43520084]\n",
      " [0.43100765 0.47830248 0.4300637 ]\n",
      " [0.43300113 0.48145828 0.42930508]\n",
      " [0.43052495 0.48118728 0.42511964]\n",
      " [0.42601418 0.47824228 0.41826025]\n",
      " [0.4201186  0.47391248 0.410016  ]\n",
      " [0.42215633 0.47797367 0.41016278]\n",
      " [0.4184559  0.47740477 0.40567946]\n",
      " [0.4166833  0.47876373 0.40312394]\n",
      " [0.4167462  0.4764493  0.3984595 ]\n",
      " [0.41469222 0.4723934  0.39228517]\n",
      " [0.4071056  0.46615082 0.3826894 ]\n",
      " [0.40342802 0.46325615 0.37588024]\n",
      " [0.39922577 0.45983678 0.36854646]\n",
      " [0.3975617  0.4589556  0.36375085]\n",
      " [0.39703837 0.45921513 0.36009595]\n",
      " [0.39479104 0.45860898 0.35557535]\n",
      " [0.3940674  0.4539566  0.34800604]\n",
      " [0.3921506  0.45595425 0.34687212]\n",
      " [0.3915519  0.4602766  0.34755963]\n",
      " [0.3924211  0.4652045  0.34928384]\n",
      " [0.40045837 0.47496817 0.3573211 ]\n",
      " [0.413515   0.4880248  0.37037775]\n",
      " [0.4220827  0.4965925  0.3792719 ]\n",
      " [0.4243493  0.4988591  0.38394305]\n",
      " [0.42494437 0.49945417 0.38297233]\n",
      " [0.42292857 0.49783894 0.37959105]\n",
      " [0.42670873 0.50318485 0.38258833]\n",
      " [0.42776588 0.5058078  0.3828626 ]\n",
      " [0.42746317 0.50743914 0.3819611 ]\n",
      " [0.42209044 0.5080964  0.37864646]\n",
      " [0.41348475 0.5076024  0.3738828 ]\n",
      " [0.41014135 0.504259   0.3689736 ]\n",
      " [0.41301614 0.49873304 0.36369765]\n",
      " [0.40417987 0.4889495  0.3519749 ]\n",
      " [0.4042464  0.48208088 0.34661666]\n",
      " [0.39836824 0.4767996  0.33917272]\n",
      " [0.39136288 0.4639102  0.32258013]\n",
      " [0.38667002 0.45665374 0.30884317]\n",
      " [0.38560328 0.4561915  0.3071719 ]\n",
      " [0.37671646 0.43946156 0.29436353]\n",
      " [0.3805262  0.4432713  0.29817328]\n",
      " [0.37998167 0.44020003 0.29636535]\n",
      " [0.37628207 0.43467325 0.2917522 ]\n",
      " [0.370886   0.43301645 0.28822574]\n",
      " [0.3654899  0.42823502 0.28313696]\n",
      " [0.35705715 0.41980225 0.27487597]\n",
      " [0.35909843 0.42184353 0.27770007]\n",
      " [0.35904682 0.4217919  0.2784314 ]\n",
      " [0.35919064 0.42193574 0.27935806]\n",
      " [0.35533217 0.41807726 0.2762825 ]\n",
      " [0.3533738  0.41611892 0.27494243]\n",
      " [0.35834318 0.42108828 0.27991182]\n",
      " [0.35121083 0.41395593 0.27277946]\n",
      " [0.352558   0.4153031  0.27412662]\n",
      " [0.35875994 0.42150506 0.28032857]\n",
      " [0.371639   0.43438414 0.29320765]\n",
      " [0.38350928 0.44625437 0.3050779 ]\n",
      " [0.38658345 0.44975698 0.3085805 ]\n",
      " [0.39050338 0.45681956 0.31291154]\n",
      " [0.39278948 0.4621125  0.3137255 ]\n",
      " [0.39185628 0.4628954  0.3137255 ]\n",
      " [0.3931416  0.46652937 0.30909383]\n",
      " [0.38843712 0.46417353 0.3045719 ]\n",
      " [0.38496974 0.46305484 0.29584998]\n",
      " [0.37946793 0.45990163 0.29191393]\n",
      " [0.37675688 0.45925295 0.2901961 ]\n",
      " [0.37754864 0.46082762 0.28942204]\n",
      " [0.37596688 0.4600287  0.28627452]\n",
      " [0.37753263 0.46237737 0.28627452]\n",
      " [0.37766728 0.4632949  0.2848434 ]\n",
      " [0.3764706  0.4627451  0.28235295]\n",
      " [0.37365624 0.45993075 0.2795386 ]\n",
      " [0.3655371  0.4518116  0.27141944]\n",
      " [0.3761946  0.4507044  0.2742338 ]\n",
      " [0.37254903 0.44512358 0.26962063]\n",
      " [0.37254903 0.4392157  0.26666668]\n",
      " [0.36784732 0.43451402 0.26196498]\n",
      " [0.36166343 0.4222452  0.25273862]\n",
      " [0.34584808 0.4121397  0.2397782 ]\n",
      " [0.34117648 0.40784314 0.23529412]\n",
      " [0.34237218 0.40903887 0.23648983]\n",
      " [0.3432107  0.40987736 0.23732837]\n",
      " [0.34375542 0.4104221  0.23787305]\n",
      " [0.3483686  0.41503528 0.24248622]\n",
      " [0.35310355 0.41956726 0.2471806 ]\n",
      " [0.36935967 0.4164185  0.25955573]\n",
      " [0.37539664 0.42245546 0.26559272]\n",
      " [0.384623   0.4316818  0.27481908]\n",
      " [0.39104232 0.43529412 0.2784314 ]\n",
      " [0.4026528  0.44579005 0.2889273 ]\n",
      " [0.42406678 0.45543933 0.30249816]\n",
      " [0.43233284 0.4637054  0.3107642 ]\n",
      " [0.436946   0.47162238 0.32198504]\n",
      " [0.44390273 0.4831184  0.33802038]\n",
      " [0.4561642  0.4953799  0.35028186]\n",
      " [0.47000375 0.5092194  0.3641214 ]\n",
      " [0.4745098  0.5137255  0.36862746]\n",
      " [0.4733214  0.5125371  0.36743906]\n",
      " [0.47246823 0.5079239  0.36282587]\n",
      " [0.47965303 0.4981675  0.36849916]\n",
      " [0.4790897  0.49411765 0.36602256]\n",
      " [0.47843137 0.49411765 0.3647059 ]\n",
      " [0.47843137 0.49411765 0.36325613]\n",
      " [0.47984788 0.49553415 0.35827923]\n",
      " [0.48235294 0.49803922 0.3565681 ]\n",
      " [0.48515266 0.50083894 0.3557409 ]\n",
      " [0.4862745  0.5054521  0.34988007]\n",
      " [0.4907188  0.5095425  0.3529412 ]\n",
      " [0.4989922  0.50683534 0.3529412 ]\n",
      " [0.5068946  0.5130931  0.35623035]\n",
      " [0.52073413 0.5246557  0.3677929 ]\n",
      " [0.52246237 0.52638394 0.36346558]\n",
      " [0.5290075  0.53292906 0.36822316]\n",
      " [0.5294118  0.5411765  0.37254903]\n",
      " [0.5294118  0.5399954  0.37491116]\n",
      " [0.5294118  0.5372549  0.38039216]\n",
      " [0.53710467 0.5475121  0.38295645]\n",
      " [0.5444324  0.5561971  0.38105783]\n",
      " [0.55696654 0.5726788  0.37649652]\n",
      " [0.5754193  0.593592   0.3796746 ]\n",
      " [0.593872   0.6070458  0.3806981 ]\n",
      " [0.61022395 0.6259102  0.39453766]\n",
      " [0.6268559  0.64812696 0.4083772 ]\n",
      " [0.6348566  0.658386   0.4082807 ]\n",
      " [0.647821   0.67603415 0.4127809 ]\n",
      " [0.6626062  0.70182186 0.43123364]\n",
      " [0.6745098  0.717      0.44149998]\n",
      " [0.6768387  0.7285553  0.4392157 ]\n",
      " [0.67541087 0.7363539  0.44223619]\n",
      " [0.67822194 0.7446791  0.43942514]\n",
      " [0.6818708  0.7495017  0.44217294]\n",
      " [0.6796051  0.7541149  0.4364679 ]\n",
      " [0.67675686 0.75686276 0.4373503 ]\n",
      " [0.6654743  0.7517488  0.42762315]\n",
      " [0.6659937  0.7522682  0.4300266 ]\n",
      " [0.6627451  0.7490196  0.42745098]\n",
      " [0.6634553  0.7497298  0.42816123]\n",
      " [0.6680685  0.75434303 0.43277442]\n",
      " [0.67058825 0.75686276 0.43529412]\n",
      " [0.67058825 0.75686276 0.43529412]\n",
      " [0.67058825 0.75686276 0.43529412]\n",
      " [0.6666667  0.7607843  0.42352942]\n",
      " [0.6666667  0.7607843  0.42352942]\n",
      " [0.6666667  0.7607843  0.4267893 ]\n",
      " [0.6666667  0.7607843  0.43137255]\n",
      " [0.6666667  0.75777113 0.43438572]\n",
      " [0.6666667  0.75686276 0.43529412]\n",
      " [0.6671415  0.75733757 0.4367186 ]\n",
      " [0.6682554  0.75845146 0.44472593]\n",
      " [0.66088706 0.75108314 0.43735763]\n",
      " [0.6613732  0.7515693  0.43784377]\n",
      " [0.6627451  0.7529412  0.4392157 ]\n",
      " [0.6627338  0.75292987 0.43920437]\n",
      " [0.65882355 0.7490196  0.43529412]\n",
      " [0.65603447 0.7490196  0.43389958]\n",
      " [0.6509804  0.7490196  0.43137255]\n",
      " [0.6509804  0.7490196  0.43137255]\n",
      " [0.647511   0.7455502  0.42790318]\n",
      " [0.64705884 0.74509805 0.42745098]\n",
      " [0.6461278  0.74416703 0.42651996]\n",
      " [0.6415146  0.7395538  0.42190677]\n",
      " [0.63690144 0.73494065 0.4126651 ]\n",
      " [0.63529414 0.73333335 0.40483728]\n",
      " [0.64268905 0.74072826 0.41501397]\n",
      " [0.6431373  0.7411765  0.41568628]\n",
      " [0.6431373  0.7411765  0.4180045 ]\n",
      " [0.63943577 0.737475   0.41982797]\n",
      " [0.63275176 0.72824866 0.41822863]\n",
      " [0.6281386  0.72225624 0.41637388]\n",
      " [0.62352943 0.70980394 0.42352942]\n",
      " [0.6228338  0.7091083  0.4228338 ]\n",
      " [0.61960787 0.7058824  0.41960785]\n",
      " [0.62376547 0.71004    0.4237655 ]\n",
      " [0.627451   0.7137255  0.42745098]\n",
      " [0.6309131  0.7171876  0.43091303]\n",
      " [0.6313726  0.7178792  0.42306522]\n",
      " [0.6313726  0.72156864 0.41568628]\n",
      " [0.6313726  0.72156864 0.41568628]\n",
      " [0.6313726  0.72156864 0.41568628]\n",
      " [0.628374   0.71857005 0.41268775]\n",
      " [0.627451   0.7176471  0.4117647 ]\n",
      " [0.62352943 0.7137255  0.40784314]\n",
      " [0.6223776  0.7137255  0.41245034]\n",
      " [0.61960787 0.7137255  0.42352942]\n",
      " [0.6145378  0.7086554  0.41845936]\n",
      " [0.6117647  0.7058824  0.41568628]\n",
      " [0.6078465  0.70196414 0.41176802]\n",
      " [0.6032333  0.697351   0.40715486]\n",
      " [0.5972402  0.69135785 0.40116176]\n",
      " [0.5962999  0.6862745  0.3940069 ]\n",
      " [0.59723693 0.6862745  0.3838675 ]\n",
      " [0.59953314 0.6897292  0.3838469 ]\n",
      " [0.6041463  0.6943424  0.38846007]\n",
      " [0.6087595  0.6989556  0.39307326]\n",
      " [0.6117647  0.7019608  0.39607844]\n",
      " [0.6117647  0.7019608  0.39607844]\n",
      " [0.6087735  0.6989696  0.3930872 ]\n",
      " [0.6041603  0.6943564  0.38110837]\n",
      " [0.60784316 0.69803923 0.38431373]\n",
      " [0.60784316 0.69803923 0.38431373]\n",
      " [0.6115153  0.70171136 0.38798591]\n",
      " [0.61821395 0.70841    0.39468455]\n",
      " [0.61960787 0.70980394 0.39607844]\n",
      " [0.62351876 0.71371484 0.39998934]\n",
      " [0.6189269  0.7169661  0.39283782]\n",
      " [0.6143137  0.71235293 0.39470586]\n",
      " [0.60763633 0.70980394 0.39215687]\n",
      " [0.6011658  0.7070481  0.39491266]\n",
      " [0.5965526  0.7093298  0.39607844]\n",
      " [0.5878004  0.6976043  0.39564353]\n",
      " [0.5794831  0.689287   0.38732624]\n",
      " [0.57166857 0.6814725  0.37951168]\n",
      " [0.5647059  0.6745098  0.37254903]\n",
      " [0.5647059  0.6745098  0.37254903]]\n"
     ]
    }
   ],
   "source": [
    "images = images / 255.0 # divide by float forces the result to be a float\n",
    "\n",
    "# Inspect scaled first row of pixels of the first image in RGB\n",
    "print(images[0][0])"
   ],
   "metadata": {
    "collapsed": false,
    "ExecuteTime": {
     "end_time": "2024-01-09T21:51:41.688428Z",
     "start_time": "2024-01-09T21:51:41.600646Z"
    }
   },
   "id": "aaf79a2013bd77da",
   "execution_count": 148
  },
  {
   "cell_type": "markdown",
   "source": [
    "# Split the data into train and test data"
   ],
   "metadata": {
    "collapsed": false
   },
   "id": "b56faac4597f778e"
  },
  {
   "cell_type": "code",
   "outputs": [],
   "source": [
    "X_train, X_test, y_train, y_test = train_test_split(images, labels, test_size=0.2, random_state=42)"
   ],
   "metadata": {
    "collapsed": false,
    "ExecuteTime": {
     "end_time": "2024-01-09T21:51:44.368654Z",
     "start_time": "2024-01-09T21:51:44.276631Z"
    }
   },
   "id": "b7a16aa0fe3589b3",
   "execution_count": 149
  },
  {
   "cell_type": "markdown",
   "source": [
    "# Create the model"
   ],
   "metadata": {
    "collapsed": false
   },
   "id": "71f9cc0962bdb078"
  },
  {
   "cell_type": "code",
   "execution_count": 150,
   "outputs": [],
   "source": [
    "# sequential means that the layers are stacked on top of each other leading to a feed forward neural network\n",
    "model = tf.keras.models.Sequential([\n",
    "    # Adding a convolutional layer to detect features in the images\n",
    "    \n",
    "    # 16 filters to detect 16 different features like edges, textures, structure etc.\n",
    "    # 3x3 kernel size to detect features in a 3x3 area\n",
    "    # 1 stride to move the kernel by 1 pixel\n",
    "    # relu activation function to introduce non-linearity\n",
    "    # input shape: height, width, colors/channels (RGB)\n",
    "    tf.keras.layers.Conv2D(16, (3, 3), 1, activation='relu', input_shape=(256, 256, 3)), # output shape: 254x254x16 (width, height, features)\n",
    "\n",
    "    # Adding a max pooling layer to reduce the dimensionality of the data\n",
    "    # achieved by taking the maximum value of a 2x2 area as the representative value for that area\n",
    "    tf.keras.layers.MaxPool2D(), # output shape: 127x127x16\n",
    "    \n",
    "    # Adding more layers to continously learn more complex features\n",
    "    # Continouse learning of more complex features is achieved by increasing the number of filters\n",
    "    # A more compact representation of the data is achieved by reducing the kernel size continuously via max pooling\n",
    "    tf.keras.layers.Conv2D(32, (3, 3), 1, activation='relu'), # output shape: 125x125x32\n",
    "    tf.keras.layers.MaxPool2D(), # output shape: 62x62x32\n",
    "    tf.keras.layers.Conv2D(64, (3, 3), 1, activation='relu'), # output shape: 60x60x64\n",
    "    tf.keras.layers.MaxPooling2D(), # output shape: 30x30x64 (width, height, features)\n",
    "    \n",
    "    # Adding a flatten layer to transform the 2D data into a 1D vector\n",
    "    tf.keras.layers.Flatten(), # output shape: 57600\n",
    "    \n",
    "    # Adding a dense layer to learn the classification\n",
    "    tf.keras.layers.Dense(256, activation='relu'),\n",
    "    \n",
    "    # Adding the output layer to classify the images - either as a Kaninchen or as a Feldhase\n",
    "    tf.keras.layers.Dense(1, activation='sigmoid')\n",
    "])"
   ],
   "metadata": {
    "collapsed": false,
    "ExecuteTime": {
     "end_time": "2024-01-09T21:51:45.220185Z",
     "start_time": "2024-01-09T21:51:45.145885Z"
    }
   },
   "id": "ac8960157002f51d"
  },
  {
   "cell_type": "markdown",
   "source": [
    "# Configuring the neural network model"
   ],
   "metadata": {
    "collapsed": false
   },
   "id": "6fe83a9ecd40dd4b"
  },
  {
   "cell_type": "code",
   "execution_count": 151,
   "outputs": [],
   "source": [
    "# 'compile' configures the selected neural network model\n",
    "# 'adam' adapts the learning rate of each parameter individually, aiming to minimize the loss function (binary crossentropy in our case)\n",
    "# the metrics are used to measure the performance of the model\n",
    "model.compile('adam', loss=tf.losses.BinaryCrossentropy(), metrics=['accuracy'])"
   ],
   "metadata": {
    "collapsed": false,
    "ExecuteTime": {
     "end_time": "2024-01-09T21:51:46.426394Z",
     "start_time": "2024-01-09T21:51:46.420553Z"
    }
   },
   "id": "5735edff61b2a4e9"
  },
  {
   "cell_type": "markdown",
   "source": [
    "# Train the model"
   ],
   "metadata": {
    "collapsed": false
   },
   "id": "9aa22a7757a8421b"
  },
  {
   "cell_type": "code",
   "execution_count": 152,
   "outputs": [
    {
     "name": "stdout",
     "output_type": "stream",
     "text": [
      "Epoch 1/20\n",
      "4/4 [==============================] - 5s 1s/step - loss: 3.4614 - accuracy: 0.4969 - val_loss: 1.2170 - val_accuracy: 0.5500\n",
      "Epoch 2/20\n",
      "4/4 [==============================] - 5s 1s/step - loss: 0.9369 - accuracy: 0.4875 - val_loss: 0.7238 - val_accuracy: 0.4500\n",
      "Epoch 3/20\n",
      "4/4 [==============================] - 5s 1s/step - loss: 0.6831 - accuracy: 0.5406 - val_loss: 0.6608 - val_accuracy: 0.6375\n",
      "Epoch 4/20\n",
      "4/4 [==============================] - 4s 1s/step - loss: 0.6417 - accuracy: 0.6844 - val_loss: 0.6131 - val_accuracy: 0.7000\n",
      "Epoch 5/20\n",
      "4/4 [==============================] - 4s 925ms/step - loss: 0.5985 - accuracy: 0.7156 - val_loss: 0.5884 - val_accuracy: 0.6375\n",
      "Epoch 6/20\n",
      "4/4 [==============================] - 4s 920ms/step - loss: 0.6167 - accuracy: 0.6531 - val_loss: 0.5636 - val_accuracy: 0.7500\n",
      "Epoch 7/20\n",
      "4/4 [==============================] - 4s 935ms/step - loss: 0.5652 - accuracy: 0.7312 - val_loss: 0.6157 - val_accuracy: 0.5750\n",
      "Epoch 8/20\n",
      "4/4 [==============================] - 4s 859ms/step - loss: 0.5736 - accuracy: 0.6812 - val_loss: 0.5691 - val_accuracy: 0.7125\n",
      "Epoch 9/20\n",
      "4/4 [==============================] - 4s 923ms/step - loss: 0.4995 - accuracy: 0.7750 - val_loss: 0.5371 - val_accuracy: 0.7500\n"
     ]
    }
   ],
   "source": [
    "# Implementing early stopping to prevent overfitting\n",
    "# 'patience' is the number of epochs with no improvement after which training will be stopped\n",
    "# 'restore_best_weights' restores the weights from the epoch with the best value of the monitored quantity\n",
    "early_stopping = tf.keras.callbacks.EarlyStopping(monitor='val_accuracy', patience=3, restore_best_weights=True)\n",
    "\n",
    "# 'fit' trains the model\n",
    "# 'epochs' is the number of times the model is trained on the whole dataset\n",
    "hist = model.fit(X_train, y_train, validation_data=(X_test, y_test), epochs=20, batch_size=100, callbacks=[early_stopping])"
   ],
   "metadata": {
    "collapsed": false,
    "ExecuteTime": {
     "end_time": "2024-01-09T21:52:26.745810Z",
     "start_time": "2024-01-09T21:51:47.457789Z"
    }
   },
   "id": "c23bfe63e3a4aa42"
  },
  {
   "cell_type": "markdown",
   "source": [
    "# Plot the training and the validation accuracy, as well as the loss"
   ],
   "metadata": {
    "collapsed": false
   },
   "id": "e5c569326fdb0a4e"
  },
  {
   "cell_type": "code",
   "execution_count": 153,
   "outputs": [
    {
     "data": {
      "text/plain": "<Figure size 640x480 with 1 Axes>",
      "image/png": "[encoded data removed]"
     },
     "metadata": {},
     "output_type": "display_data"
    },
    {
     "data": {
      "text/plain": "<Figure size 640x480 with 1 Axes>",
      "image/png": "[encoded data removed]"
     },
     "metadata": {},
     "output_type": "display_data"
    }
   ],
   "source": [
    "import matplotlib.pyplot as plt\n",
    "\n",
    "# Plot the training and the validation accuracy\n",
    "plt.plot(hist.history['accuracy'])\n",
    "plt.plot(hist.history['val_accuracy'])\n",
    "plt.title('Model accuracy')\n",
    "plt.ylabel('Accuracy')\n",
    "plt.xlabel('Epoch')\n",
    "plt.ylim(0, 1.05)  # Set y-axis limits to start at 0 and end at 1.05\n",
    "plt.legend(['Training accuracy', 'Validation accuracy'], loc='lower right') # loc='lower right' to place the legend in the lower right corner\n",
    "plt.show()\n",
    "\n",
    "# Plot the training and the validation loss\n",
    "plt.plot(hist.history['loss'])\n",
    "plt.plot(hist.history['val_loss'])\n",
    "plt.title('Model loss')\n",
    "plt.ylabel('Loss')\n",
    "plt.xlabel('Epoch')\n",
    "plt.ylim(0, 1.05)\n",
    "plt.legend(['Training loss', 'Validation loss'], loc='upper right') # loc='upper right' to place the legend in the upper right corner\n",
    "plt.show()"
   ],
   "metadata": {
    "collapsed": false,
    "ExecuteTime": {
     "end_time": "2024-01-09T21:52:50.134075Z",
     "start_time": "2024-01-09T21:52:49.875385Z"
    }
   },
   "id": "e4938f86e937cf82"
  },
  {
   "cell_type": "code",
   "execution_count": 154,
   "outputs": [
    {
     "name": "stdout",
     "output_type": "stream",
     "text": [
      "3/3 - 0s - loss: 0.5636 - accuracy: 0.7500 - 268ms/epoch - 89ms/step\n",
      "Test accuracy: 0.75\n"
     ]
    }
   ],
   "source": [
    "# Evaluate the model based on the test data\n",
    "test_loss, test_acc = model.evaluate(X_test, y_test, verbose=2) # verbose=2 to suppress the progress bar\n",
    "print(f'Test accuracy: {test_acc}')"
   ],
   "metadata": {
    "collapsed": false,
    "ExecuteTime": {
     "end_time": "2024-01-09T21:52:56.359304Z",
     "start_time": "2024-01-09T21:52:55.995866Z"
    }
   },
   "id": "271587a53471d18c"
  },
  {
   "cell_type": "code",
   "execution_count": 87,
   "outputs": [],
   "source": [],
   "metadata": {
    "collapsed": false,
    "ExecuteTime": {
     "end_time": "2024-01-09T20:47:34.298706Z",
     "start_time": "2024-01-09T20:47:34.295649Z"
    }
   },
   "id": "bc1c3296edc803f"
  },
  {
   "cell_type": "code",
   "execution_count": null,
   "outputs": [],
   "source": [],
   "metadata": {
    "collapsed": false
   },
   "id": "8a1be1023eebe10a"
  }
 ],
 "metadata": {
  "kernelspec": {
   "display_name": "Python 3",
   "language": "python",
   "name": "python3"
  },
  "language_info": {
   "codemirror_mode": {
    "name": "ipython",
    "version": 2
   },
   "file_extension": ".py",
   "mimetype": "text/x-python",
   "name": "python",
   "nbconvert_exporter": "python",
   "pygments_lexer": "ipython2",
   "version": "2.7.6"
  }
 },
 "nbformat": 4,
 "nbformat_minor": 5
}
