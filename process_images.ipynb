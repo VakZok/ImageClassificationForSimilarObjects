{
 "cells": [
  {
   "cell_type": "markdown",
   "source": [
    "# Image Processor \n",
    "\n",
    "The purpose of this file is to process the images and create a pickle file so that the data doesn't have to be processed every time"
   ],
   "metadata": {
    "collapsed": false
   },
   "id": "52335692d14e9776"
  },
  {
   "cell_type": "code",
   "outputs": [],
   "source": [
    "import os\n",
    "import numpy as np\n",
    "from PIL import Image\n",
    "import pickle"
   ],
   "metadata": {
    "collapsed": false,
    "ExecuteTime": {
     "end_time": "2023-12-27T15:59:00.453568Z",
     "start_time": "2023-12-27T15:59:00.449318Z"
    }
   },
   "id": "f942088f6822c409",
   "execution_count": 27
  },
  {
   "cell_type": "code",
   "outputs": [],
   "source": [
    "def load_images_from_folder(folder):\n",
    "    images = []\n",
    "    labels = []\n",
    "    target_categories = {'Feldhase': 0, 'Kaninchen': 1}\n",
    "    for category in os.listdir(folder):\n",
    "        if category in target_categories:\n",
    "            category_folder = os.path.join(folder, category)\n",
    "            if os.path.isdir(category_folder):\n",
    "                for filename in os.listdir(category_folder):\n",
    "                    img_path = os.path.join(category_folder, filename)\n",
    "                    with Image.open(img_path) as img:\n",
    "                        img = img.resize((256, 256))\n",
    "                        img = np.array(img)\n",
    "                        images.append(img)\n",
    "                        labels.append(target_categories[category])\n",
    "    return images, labels"
   ],
   "metadata": {
    "collapsed": false,
    "ExecuteTime": {
     "end_time": "2023-12-27T15:59:14.629667Z",
     "start_time": "2023-12-27T15:59:14.627074Z"
    }
   },
   "id": "ff0bb9ac1e27a88b",
   "execution_count": 28
  },
  {
   "cell_type": "code",
   "outputs": [],
   "source": [
    "def save_to_pickle(file_path, data):\n",
    "    with open(file_path, 'wb') as f:\n",
    "        pickle.dump(data, f)\n",
    "\n",
    "def load_from_pickle(file_path):\n",
    "    with open(file_path, 'rb') as f:\n",
    "        return pickle.load(f)"
   ],
   "metadata": {
    "collapsed": false,
    "ExecuteTime": {
     "end_time": "2023-12-27T16:00:04.804111Z",
     "start_time": "2023-12-27T16:00:04.800134Z"
    }
   },
   "id": "d596c448c8909888",
   "execution_count": 31
  },
  {
   "cell_type": "code",
   "outputs": [],
   "source": [
    "photos_path = 'photos'\n",
    "images, labels = load_images_from_folder(photos_path)\n",
    "\n",
    "save_to_pickle('processed_data.pkl', (images, labels))\n",
    "\n",
    "# images, labels = load_from_pickle('processed_data.pkl')"
   ],
   "metadata": {
    "collapsed": false,
    "ExecuteTime": {
     "end_time": "2023-12-27T16:00:21.988901Z",
     "start_time": "2023-12-27T16:00:18.653442Z"
    }
   },
   "id": "9868434d783ffe71",
   "execution_count": 32
  }
 ],
 "metadata": {
  "kernelspec": {
   "display_name": "Python 3",
   "language": "python",
   "name": "python3"
  },
  "language_info": {
   "codemirror_mode": {
    "name": "ipython",
    "version": 2
   },
   "file_extension": ".py",
   "mimetype": "text/x-python",
   "name": "python",
   "nbconvert_exporter": "python",
   "pygments_lexer": "ipython2",
   "version": "2.7.6"
  }
 },
 "nbformat": 4,
 "nbformat_minor": 5
}
